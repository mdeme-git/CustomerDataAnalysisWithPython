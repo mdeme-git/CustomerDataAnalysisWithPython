{
 "cells": [
  {
   "cell_type": "markdown",
   "id": "optical-frontier",
   "metadata": {},
   "source": [
    "# Importation des packages \n",
    "\n",
    "Nous chargons les modules necessaires pour notre analyse. "
   ]
  },
  {
   "cell_type": "code",
   "execution_count": 16,
   "id": "found-polish",
   "metadata": {},
   "outputs": [],
   "source": [
    "#Importation des packages\n",
    "\n",
    "import pandas as pd\n",
    "import numpy as np\n",
    "import seaborn as sn\n",
    "import matplotlib.pyplot as plt\n",
    "from kmodes.kmodes import KModes\n",
    "import os "
   ]
  },
  {
   "cell_type": "code",
   "execution_count": 17,
   "id": "advised-aging",
   "metadata": {},
   "outputs": [
    {
     "name": "stdout",
     "output_type": "stream",
     "text": [
      "C:\\Users\\mouss\\OneDrive\\Documents\\TotalEnergies\n"
     ]
    }
   ],
   "source": [
    "# Definir le repertoire de travail \n",
    "pwd = \"C:\\\\Users\\\\mouss\\\\OneDrive\\\\Documents\\\\TotalEnergies\" \n",
    "os.chdir(pwd) \n",
    " \n",
    "# Afficher le nouveau repertoire de travail \n",
    "print(os.getcwd()) "
   ]
  },
  {
   "cell_type": "markdown",
   "id": "worth-cemetery",
   "metadata": {},
   "source": [
    "# Données\n",
    "Nous chargeons le jeu de données de la correspondance supports-clients. Cette table contient 291 964 lignes et 6 facteurs. Tous les facteurs sont des variables à modalités sauf le code des clients. "
   ]
  },
  {
   "cell_type": "code",
   "execution_count": 18,
   "id": "every-placement",
   "metadata": {},
   "outputs": [],
   "source": [
    "# Importation des données\n",
    "\n",
    "data = pd.read_csv(\"mapping_support.csv\",sep = \";\"\n",
    "                       #,index_col = \"EP_CODE\"\n",
    "                      , encoding= 'latin-1')"
   ]
  },
  {
   "cell_type": "code",
   "execution_count": 19,
   "id": "threatened-product",
   "metadata": {},
   "outputs": [
    {
     "name": "stdout",
     "output_type": "stream",
     "text": [
      "<class 'pandas.core.frame.DataFrame'>\n",
      "RangeIndex: 291964 entries, 0 to 291963\n",
      "Data columns (total 6 columns):\n",
      " #   Column             Non-Null Count   Dtype \n",
      "---  ------             --------------   ----- \n",
      " 0   EP_CODE            291964 non-null  int64 \n",
      " 1   SUPPORT_CODE       291962 non-null  object\n",
      " 2   SUPPORT_TYPE       291962 non-null  object\n",
      " 3   SUPPORT_STATUS     291964 non-null  object\n",
      " 4   SUPPORT_SUBSTATUS  291964 non-null  object\n",
      " 5   VEHICLE_TYPE       291961 non-null  object\n",
      "dtypes: int64(1), object(5)\n",
      "memory usage: 13.4+ MB\n"
     ]
    }
   ],
   "source": [
    "data.info()"
   ]
  },
  {
   "cell_type": "markdown",
   "id": "minor-player",
   "metadata": {},
   "source": [
    "# Echantillon\n",
    "Ci dessous un échantilon de cette table."
   ]
  },
  {
   "cell_type": "code",
   "execution_count": 20,
   "id": "structural-right",
   "metadata": {},
   "outputs": [
    {
     "data": {
      "text/html": [
       "<div>\n",
       "<style scoped>\n",
       "    .dataframe tbody tr th:only-of-type {\n",
       "        vertical-align: middle;\n",
       "    }\n",
       "\n",
       "    .dataframe tbody tr th {\n",
       "        vertical-align: top;\n",
       "    }\n",
       "\n",
       "    .dataframe thead th {\n",
       "        text-align: right;\n",
       "    }\n",
       "</style>\n",
       "<table border=\"1\" class=\"dataframe\">\n",
       "  <thead>\n",
       "    <tr style=\"text-align: right;\">\n",
       "      <th></th>\n",
       "      <th>EP_CODE</th>\n",
       "      <th>SUPPORT_CODE</th>\n",
       "      <th>SUPPORT_TYPE</th>\n",
       "      <th>SUPPORT_STATUS</th>\n",
       "      <th>SUPPORT_SUBSTATUS</th>\n",
       "      <th>VEHICLE_TYPE</th>\n",
       "    </tr>\n",
       "  </thead>\n",
       "  <tbody>\n",
       "    <tr>\n",
       "      <th>0</th>\n",
       "      <td>87049492</td>\n",
       "      <td>C700</td>\n",
       "      <td>Card</td>\n",
       "      <td>Actif</td>\n",
       "      <td>En activité</td>\n",
       "      <td>04-OTHER</td>\n",
       "    </tr>\n",
       "    <tr>\n",
       "      <th>1</th>\n",
       "      <td>87289912</td>\n",
       "      <td>C700</td>\n",
       "      <td>Card</td>\n",
       "      <td>Actif</td>\n",
       "      <td>En activité</td>\n",
       "      <td>03-PASSENGER VEHICLE</td>\n",
       "    </tr>\n",
       "    <tr>\n",
       "      <th>2</th>\n",
       "      <td>87274364</td>\n",
       "      <td>C700</td>\n",
       "      <td>Card</td>\n",
       "      <td>Actif</td>\n",
       "      <td>En activité</td>\n",
       "      <td>03-PASSENGER VEHICLE</td>\n",
       "    </tr>\n",
       "    <tr>\n",
       "      <th>3</th>\n",
       "      <td>87267522</td>\n",
       "      <td>C700</td>\n",
       "      <td>Card</td>\n",
       "      <td>Actif</td>\n",
       "      <td>En activité</td>\n",
       "      <td>03-PASSENGER VEHICLE</td>\n",
       "    </tr>\n",
       "    <tr>\n",
       "      <th>4</th>\n",
       "      <td>87310757</td>\n",
       "      <td>C700</td>\n",
       "      <td>Card</td>\n",
       "      <td>Actif</td>\n",
       "      <td>En activité</td>\n",
       "      <td>01-HEAVY GOODS VEHICLE</td>\n",
       "    </tr>\n",
       "  </tbody>\n",
       "</table>\n",
       "</div>"
      ],
      "text/plain": [
       "    EP_CODE SUPPORT_CODE SUPPORT_TYPE SUPPORT_STATUS SUPPORT_SUBSTATUS  \\\n",
       "0  87049492         C700         Card          Actif       En activité   \n",
       "1  87289912         C700         Card          Actif       En activité   \n",
       "2  87274364         C700         Card          Actif       En activité   \n",
       "3  87267522         C700         Card          Actif       En activité   \n",
       "4  87310757         C700         Card          Actif       En activité   \n",
       "\n",
       "             VEHICLE_TYPE  \n",
       "0                04-OTHER  \n",
       "1    03-PASSENGER VEHICLE  \n",
       "2    03-PASSENGER VEHICLE  \n",
       "3    03-PASSENGER VEHICLE  \n",
       "4  01-HEAVY GOODS VEHICLE  "
      ]
     },
     "execution_count": 20,
     "metadata": {},
     "output_type": "execute_result"
    }
   ],
   "source": [
    "data.head()"
   ]
  },
  {
   "cell_type": "markdown",
   "id": "white-vehicle",
   "metadata": {},
   "source": [
    "# Nettoyage et preparation de données\n",
    "\n",
    "## Types des variables\n",
    "\n",
    "Dans cette partie, il s'agit de regarder de plus près le type de chaque variable et decider s'il est pertinent de les convertir vers d'autres types. Pour ce faire, analysons la sortie suivante : "
   ]
  },
  {
   "cell_type": "code",
   "execution_count": 21,
   "id": "close-variation",
   "metadata": {},
   "outputs": [
    {
     "name": "stdout",
     "output_type": "stream",
     "text": [
      "<class 'pandas.core.frame.DataFrame'>\n",
      "RangeIndex: 291964 entries, 0 to 291963\n",
      "Data columns (total 6 columns):\n",
      " #   Column             Non-Null Count   Dtype \n",
      "---  ------             --------------   ----- \n",
      " 0   EP_CODE            291964 non-null  int64 \n",
      " 1   SUPPORT_CODE       291962 non-null  object\n",
      " 2   SUPPORT_TYPE       291962 non-null  object\n",
      " 3   SUPPORT_STATUS     291964 non-null  object\n",
      " 4   SUPPORT_SUBSTATUS  291964 non-null  object\n",
      " 5   VEHICLE_TYPE       291961 non-null  object\n",
      "dtypes: int64(1), object(5)\n",
      "memory usage: 13.4+ MB\n"
     ]
    }
   ],
   "source": [
    "data.info()"
   ]
  },
  {
   "cell_type": "markdown",
   "id": "about-hungarian",
   "metadata": {},
   "source": [
    "On remaruqe que toute les variables sont de type *object* (correspondant à string) sauf EP_CODE qui est de type entier. Le type *object* ne pose aucun problème pour les variables qui sont de nature categorielles. C'est le cas pour toutes les variables dans cette table sauf pour EP_CODE bien sur. "
   ]
  },
  {
   "cell_type": "markdown",
   "id": "portuguese-filing",
   "metadata": {},
   "source": [
    "## Nombre de modalités par variables"
   ]
  },
  {
   "cell_type": "code",
   "execution_count": 22,
   "id": "outside-collins",
   "metadata": {},
   "outputs": [
    {
     "data": {
      "text/html": [
       "<div>\n",
       "<style scoped>\n",
       "    .dataframe tbody tr th:only-of-type {\n",
       "        vertical-align: middle;\n",
       "    }\n",
       "\n",
       "    .dataframe tbody tr th {\n",
       "        vertical-align: top;\n",
       "    }\n",
       "\n",
       "    .dataframe thead th {\n",
       "        text-align: right;\n",
       "    }\n",
       "</style>\n",
       "<table border=\"1\" class=\"dataframe\">\n",
       "  <thead>\n",
       "    <tr style=\"text-align: right;\">\n",
       "      <th></th>\n",
       "      <th>Nom_variables</th>\n",
       "      <th>Nombre_valeurs_uniques</th>\n",
       "    </tr>\n",
       "  </thead>\n",
       "  <tbody>\n",
       "    <tr>\n",
       "      <th>3</th>\n",
       "      <td>SUPPORT_STATUS</td>\n",
       "      <td>1</td>\n",
       "    </tr>\n",
       "    <tr>\n",
       "      <th>4</th>\n",
       "      <td>SUPPORT_SUBSTATUS</td>\n",
       "      <td>1</td>\n",
       "    </tr>\n",
       "    <tr>\n",
       "      <th>2</th>\n",
       "      <td>SUPPORT_TYPE</td>\n",
       "      <td>3</td>\n",
       "    </tr>\n",
       "    <tr>\n",
       "      <th>5</th>\n",
       "      <td>VEHICLE_TYPE</td>\n",
       "      <td>4</td>\n",
       "    </tr>\n",
       "    <tr>\n",
       "      <th>1</th>\n",
       "      <td>SUPPORT_CODE</td>\n",
       "      <td>40</td>\n",
       "    </tr>\n",
       "    <tr>\n",
       "      <th>0</th>\n",
       "      <td>EP_CODE</td>\n",
       "      <td>151137</td>\n",
       "    </tr>\n",
       "  </tbody>\n",
       "</table>\n",
       "</div>"
      ],
      "text/plain": [
       "       Nom_variables  Nombre_valeurs_uniques\n",
       "3     SUPPORT_STATUS                       1\n",
       "4  SUPPORT_SUBSTATUS                       1\n",
       "2       SUPPORT_TYPE                       3\n",
       "5       VEHICLE_TYPE                       4\n",
       "1       SUPPORT_CODE                      40\n",
       "0            EP_CODE                  151137"
      ]
     },
     "execution_count": 22,
     "metadata": {},
     "output_type": "execute_result"
    }
   ],
   "source": [
    "# Connaitre le nombre de valeurs uniques pour toutes les colonnes dans le but de savoir quelles variables convertir en categorielle\n",
    "\n",
    "unique_counts = pd.DataFrame.from_records([(col, data[col].nunique()) for col in data.columns],\n",
    "                          columns=['Nom_variables', 'Nombre_valeurs_uniques']).sort_values(by=['Nombre_valeurs_uniques'])\n",
    "\n",
    "unique_counts"
   ]
  },
  {
   "cell_type": "markdown",
   "id": "inside-greek",
   "metadata": {},
   "source": [
    "## Données manquantes\n",
    "\n",
    "Dans cette table, il y'a très peu de données manquantes. La variable qui a le plus de données manquantes est *VEHICULE_TYPE* avec seulement 3 NA. En ignorant les lignes contenant une données manquantes de cette table, on enlèvera au maximum 7 lignes. Ce qui est negligeable et aura très peu d'effets sur les analyses. Nous allons donc supprimer les lignes comportant des données manquantes (case vide)."
   ]
  },
  {
   "cell_type": "code",
   "execution_count": 23,
   "id": "serious-aluminum",
   "metadata": {},
   "outputs": [
    {
     "data": {
      "text/html": [
       "<div>\n",
       "<style scoped>\n",
       "    .dataframe tbody tr th:only-of-type {\n",
       "        vertical-align: middle;\n",
       "    }\n",
       "\n",
       "    .dataframe tbody tr th {\n",
       "        vertical-align: top;\n",
       "    }\n",
       "\n",
       "    .dataframe thead th {\n",
       "        text-align: right;\n",
       "    }\n",
       "</style>\n",
       "<table border=\"1\" class=\"dataframe\">\n",
       "  <thead>\n",
       "    <tr style=\"text-align: right;\">\n",
       "      <th></th>\n",
       "      <th>Nom_variables</th>\n",
       "      <th>Nombre_valeurs_manquantes</th>\n",
       "      <th>%NA</th>\n",
       "    </tr>\n",
       "  </thead>\n",
       "  <tbody>\n",
       "    <tr>\n",
       "      <th>5</th>\n",
       "      <td>VEHICLE_TYPE</td>\n",
       "      <td>3</td>\n",
       "      <td>0.0</td>\n",
       "    </tr>\n",
       "    <tr>\n",
       "      <th>1</th>\n",
       "      <td>SUPPORT_CODE</td>\n",
       "      <td>2</td>\n",
       "      <td>0.0</td>\n",
       "    </tr>\n",
       "    <tr>\n",
       "      <th>2</th>\n",
       "      <td>SUPPORT_TYPE</td>\n",
       "      <td>2</td>\n",
       "      <td>0.0</td>\n",
       "    </tr>\n",
       "    <tr>\n",
       "      <th>0</th>\n",
       "      <td>EP_CODE</td>\n",
       "      <td>0</td>\n",
       "      <td>0.0</td>\n",
       "    </tr>\n",
       "    <tr>\n",
       "      <th>3</th>\n",
       "      <td>SUPPORT_STATUS</td>\n",
       "      <td>0</td>\n",
       "      <td>0.0</td>\n",
       "    </tr>\n",
       "    <tr>\n",
       "      <th>4</th>\n",
       "      <td>SUPPORT_SUBSTATUS</td>\n",
       "      <td>0</td>\n",
       "      <td>0.0</td>\n",
       "    </tr>\n",
       "  </tbody>\n",
       "</table>\n",
       "</div>"
      ],
      "text/plain": [
       "       Nom_variables  Nombre_valeurs_manquantes  %NA\n",
       "5       VEHICLE_TYPE                          3  0.0\n",
       "1       SUPPORT_CODE                          2  0.0\n",
       "2       SUPPORT_TYPE                          2  0.0\n",
       "0            EP_CODE                          0  0.0\n",
       "3     SUPPORT_STATUS                          0  0.0\n",
       "4  SUPPORT_SUBSTATUS                          0  0.0"
      ]
     },
     "execution_count": 23,
     "metadata": {},
     "output_type": "execute_result"
    }
   ],
   "source": [
    "# Données manquantes\n",
    "\n",
    "# Connaitre le nombre de valeurs uniques pour toutes les colonnes dans le but de savoir quelles variables convertir en categorielle\n",
    "\n",
    "NA_counts = pd.DataFrame.from_records([(col\n",
    "                                        , data[col].isna().sum()\n",
    "                                       , round((data[col].isna().sum())/(data[col].size),3)) for col in data.columns],\n",
    "                          columns=['Nom_variables', 'Nombre_valeurs_manquantes',\"%NA\"]).sort_values(by=['Nombre_valeurs_manquantes'], ascending=False)\n",
    "\n",
    "NA_counts"
   ]
  },
  {
   "cell_type": "code",
   "execution_count": 24,
   "id": "addressed-manhattan",
   "metadata": {},
   "outputs": [
    {
     "name": "stdout",
     "output_type": "stream",
     "text": [
      "<class 'pandas.core.frame.DataFrame'>\n",
      "Int64Index: 291961 entries, 0 to 291963\n",
      "Data columns (total 6 columns):\n",
      " #   Column             Non-Null Count   Dtype \n",
      "---  ------             --------------   ----- \n",
      " 0   EP_CODE            291961 non-null  int64 \n",
      " 1   SUPPORT_CODE       291961 non-null  object\n",
      " 2   SUPPORT_TYPE       291961 non-null  object\n",
      " 3   SUPPORT_STATUS     291961 non-null  object\n",
      " 4   SUPPORT_SUBSTATUS  291961 non-null  object\n",
      " 5   VEHICLE_TYPE       291961 non-null  object\n",
      "dtypes: int64(1), object(5)\n",
      "memory usage: 15.6+ MB\n"
     ]
    }
   ],
   "source": [
    "data = data.copy().dropna()\n",
    "data.info()"
   ]
  },
  {
   "cell_type": "markdown",
   "id": "authentic-devon",
   "metadata": {},
   "source": [
    "# Description sommaire des données de la table de correspondance client-suppot\n",
    "\n",
    "Le tableau ci dessous decrit brievement chaque variable. Il y'a dans ce tableau pour chque variable :\n",
    "* count : le nombre d'observations (exclu les données manquantes :NAN)\n",
    "* unique : le nombre de valeurs (modalités) discincts\n",
    "* top : la valeur la plus fréquente\n",
    "* freq : la frequence de la valeur la plus frequente (nombre brute=> comptage)\n",
    "* freq_p : la proportion de la valeur la plus frequente ( en %)\n",
    "\n",
    "Ainsi, on peut remarquer que parmi les 3 types de support, le type **card** (>79%) est le plus utilisé par les clients. Il faut noter aussi que tous les supports dans cette table ont le statut **actif**, donc sont en service."
   ]
  },
  {
   "cell_type": "code",
   "execution_count": 25,
   "id": "julian-sequence",
   "metadata": {},
   "outputs": [],
   "source": [
    "stats = data.iloc[:,1:].describe()  # Ne pas considerer la variable EP_CODE.\n",
    "#stats"
   ]
  },
  {
   "cell_type": "code",
   "execution_count": 26,
   "id": "indonesian-portsmouth",
   "metadata": {},
   "outputs": [
    {
     "data": {
      "text/html": [
       "<div>\n",
       "<style scoped>\n",
       "    .dataframe tbody tr th:only-of-type {\n",
       "        vertical-align: middle;\n",
       "    }\n",
       "\n",
       "    .dataframe tbody tr th {\n",
       "        vertical-align: top;\n",
       "    }\n",
       "\n",
       "    .dataframe thead th {\n",
       "        text-align: right;\n",
       "    }\n",
       "</style>\n",
       "<table border=\"1\" class=\"dataframe\">\n",
       "  <thead>\n",
       "    <tr style=\"text-align: right;\">\n",
       "      <th></th>\n",
       "      <th>SUPPORT_CODE</th>\n",
       "      <th>SUPPORT_TYPE</th>\n",
       "      <th>SUPPORT_STATUS</th>\n",
       "      <th>SUPPORT_SUBSTATUS</th>\n",
       "      <th>VEHICLE_TYPE</th>\n",
       "    </tr>\n",
       "  </thead>\n",
       "  <tbody>\n",
       "    <tr>\n",
       "      <th>count</th>\n",
       "      <td>291961</td>\n",
       "      <td>291961</td>\n",
       "      <td>291961</td>\n",
       "      <td>291961</td>\n",
       "      <td>291961</td>\n",
       "    </tr>\n",
       "    <tr>\n",
       "      <th>unique</th>\n",
       "      <td>40</td>\n",
       "      <td>3</td>\n",
       "      <td>1</td>\n",
       "      <td>1</td>\n",
       "      <td>4</td>\n",
       "    </tr>\n",
       "    <tr>\n",
       "      <th>top</th>\n",
       "      <td>C700</td>\n",
       "      <td>Card</td>\n",
       "      <td>Actif</td>\n",
       "      <td>En activité</td>\n",
       "      <td>04-OTHER</td>\n",
       "    </tr>\n",
       "    <tr>\n",
       "      <th>freq</th>\n",
       "      <td>116312</td>\n",
       "      <td>230880</td>\n",
       "      <td>291961</td>\n",
       "      <td>291961</td>\n",
       "      <td>98796</td>\n",
       "    </tr>\n",
       "    <tr>\n",
       "      <th>freq_p</th>\n",
       "      <td>0.398</td>\n",
       "      <td>0.791</td>\n",
       "      <td>1.0</td>\n",
       "      <td>1.0</td>\n",
       "      <td>0.338</td>\n",
       "    </tr>\n",
       "  </tbody>\n",
       "</table>\n",
       "</div>"
      ],
      "text/plain": [
       "       SUPPORT_CODE SUPPORT_TYPE SUPPORT_STATUS SUPPORT_SUBSTATUS VEHICLE_TYPE\n",
       "count        291961       291961         291961            291961       291961\n",
       "unique           40            3              1                 1            4\n",
       "top            C700         Card          Actif       En activité     04-OTHER\n",
       "freq         116312       230880         291961            291961        98796\n",
       "freq_p        0.398        0.791            1.0               1.0        0.338"
      ]
     },
     "execution_count": 26,
     "metadata": {},
     "output_type": "execute_result"
    }
   ],
   "source": [
    "# Ajout de la frequence en %\n",
    "\n",
    "stats.loc[\"freq_p\"] = pd.Series(stats.loc[\"freq\"]/stats.loc[\"count\"]).apply(lambda value : round(value,3)) # frequence en pourcentage\n",
    "stats"
   ]
  },
  {
   "cell_type": "markdown",
   "id": "injured-group",
   "metadata": {},
   "source": [
    "# Autres analyses\n",
    "Les types de vehicules le plus utilisés par les clients (compositon de la flotte) est **04-OTHER** (33%) secondé par **03-PASSENGER VEHICLE** (20%) et le moins utilisé est de type **HEAVY GOODS VEHICLE** (7,1%)."
   ]
  },
  {
   "cell_type": "code",
   "execution_count": 27,
   "id": "union-train",
   "metadata": {},
   "outputs": [
    {
     "data": {
      "text/plain": [
       "VEHICLE_TYPE\n",
       "04-OTHER                                  0.338388\n",
       "03-PASSENGER VEHICLE                      0.304219\n",
       "02-LIGHT COMMERCIAL/COMMERCIAL VEHICLE    0.285511\n",
       "01-HEAVY GOODS VEHICLE                    0.071883\n",
       "dtype: float64"
      ]
     },
     "execution_count": 27,
     "metadata": {},
     "output_type": "execute_result"
    }
   ],
   "source": [
    "data.value_counts(\"VEHICLE_TYPE\",normalize=True)"
   ]
  },
  {
   "cell_type": "code",
   "execution_count": 28,
   "id": "differential-seeking",
   "metadata": {},
   "outputs": [
    {
     "data": {
      "text/plain": [
       "SUPPORT_TYPE\n",
       "Card                 0.790791\n",
       "Badge                0.208110\n",
       "Boitier WayKonect    0.001099\n",
       "dtype: float64"
      ]
     },
     "execution_count": 28,
     "metadata": {},
     "output_type": "execute_result"
    }
   ],
   "source": [
    "data.value_counts(\"SUPPORT_TYPE\",normalize=True)"
   ]
  },
  {
   "cell_type": "markdown",
   "id": "organic-syndrome",
   "metadata": {},
   "source": [
    "# Enregistrer les données propres"
   ]
  },
  {
   "cell_type": "code",
   "execution_count": 29,
   "id": "atomic-found",
   "metadata": {},
   "outputs": [],
   "source": [
    "data.to_csv('./data/mapping_support.csv',sep=';',encoding='latin-1',index=False)"
   ]
  }
 ],
 "metadata": {
  "kernelspec": {
   "display_name": "Python 3",
   "language": "python",
   "name": "python3"
  },
  "language_info": {
   "codemirror_mode": {
    "name": "ipython",
    "version": 3
   },
   "file_extension": ".py",
   "mimetype": "text/x-python",
   "name": "python",
   "nbconvert_exporter": "python",
   "pygments_lexer": "ipython3",
   "version": "3.7.3"
  }
 },
 "nbformat": 4,
 "nbformat_minor": 5
}
