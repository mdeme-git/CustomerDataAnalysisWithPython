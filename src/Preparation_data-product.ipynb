{
 "cells": [
  {
   "cell_type": "markdown",
   "id": "optical-frontier",
   "metadata": {},
   "source": [
    "# Importation des packages \n",
    "\n",
    "Nous chargons les modules necessaires pour notre analyse. "
   ]
  },
  {
   "cell_type": "code",
   "execution_count": 1,
   "id": "found-polish",
   "metadata": {},
   "outputs": [],
   "source": [
    "#Importation des packages\n",
    "\n",
    "import pandas as pd\n",
    "import numpy as np\n",
    "import seaborn as sn\n",
    "import matplotlib.pyplot as plt\n",
    "from kmodes.kmodes import KModes\n",
    "import os "
   ]
  },
  {
   "cell_type": "code",
   "execution_count": 2,
   "id": "advised-aging",
   "metadata": {},
   "outputs": [
    {
     "name": "stdout",
     "output_type": "stream",
     "text": [
      "C:\\Users\\mouss\\OneDrive\\Documents\\TotalEnergies\n"
     ]
    }
   ],
   "source": [
    "# Definir le repertoire de travail \n",
    "pwd = \"C:\\\\Users\\\\mouss\\\\OneDrive\\\\Documents\\\\TotalEnergies\" \n",
    "os.chdir(pwd) \n",
    " \n",
    "# Afficher le nouveau repertoire de travail \n",
    "print(os.getcwd()) "
   ]
  },
  {
   "cell_type": "markdown",
   "id": "worth-cemetery",
   "metadata": {},
   "source": [
    "# Données\n",
    "Nous chargeons le jeu de données des produits. Cette table contient 8 472 lignes et 6 5. Tous les facteurs sont des variables à modalités. "
   ]
  },
  {
   "cell_type": "code",
   "execution_count": 3,
   "id": "every-placement",
   "metadata": {},
   "outputs": [],
   "source": [
    "# Importation des données\n",
    "\n",
    "data = pd.read_csv(\"mapping_product.csv\",sep = \";\"\n",
    "                       #,index_col = \"EP_CODE\"\n",
    "                      , encoding= 'latin-1')"
   ]
  },
  {
   "cell_type": "code",
   "execution_count": 4,
   "id": "threatened-product",
   "metadata": {},
   "outputs": [
    {
     "name": "stdout",
     "output_type": "stream",
     "text": [
      "<class 'pandas.core.frame.DataFrame'>\n",
      "RangeIndex: 8472 entries, 0 to 8471\n",
      "Data columns (total 5 columns):\n",
      " #   Column                     Non-Null Count  Dtype \n",
      "---  ------                     --------------  ----- \n",
      " 0   PRODUCT_CODE               8472 non-null   object\n",
      " 1   PRODUCT_GRAND_FAMILY_CODE  8294 non-null   object\n",
      " 2   PRODUCT_GRAND_FAMILY_NAME  8294 non-null   object\n",
      " 3   PRODUCT_FAMILY_CODE        8294 non-null   object\n",
      " 4   PRODUCT_FAMILY_NAME        8294 non-null   object\n",
      "dtypes: object(5)\n",
      "memory usage: 331.1+ KB\n"
     ]
    }
   ],
   "source": [
    "data.info()"
   ]
  },
  {
   "cell_type": "markdown",
   "id": "minor-player",
   "metadata": {},
   "source": [
    "# Echantillon\n",
    "Ci dessous un échantilon de cette table."
   ]
  },
  {
   "cell_type": "code",
   "execution_count": 5,
   "id": "structural-right",
   "metadata": {},
   "outputs": [
    {
     "data": {
      "text/html": [
       "<div>\n",
       "<style scoped>\n",
       "    .dataframe tbody tr th:only-of-type {\n",
       "        vertical-align: middle;\n",
       "    }\n",
       "\n",
       "    .dataframe tbody tr th {\n",
       "        vertical-align: top;\n",
       "    }\n",
       "\n",
       "    .dataframe thead th {\n",
       "        text-align: right;\n",
       "    }\n",
       "</style>\n",
       "<table border=\"1\" class=\"dataframe\">\n",
       "  <thead>\n",
       "    <tr style=\"text-align: right;\">\n",
       "      <th></th>\n",
       "      <th>PRODUCT_CODE</th>\n",
       "      <th>PRODUCT_GRAND_FAMILY_CODE</th>\n",
       "      <th>PRODUCT_GRAND_FAMILY_NAME</th>\n",
       "      <th>PRODUCT_FAMILY_CODE</th>\n",
       "      <th>PRODUCT_FAMILY_NAME</th>\n",
       "    </tr>\n",
       "  </thead>\n",
       "  <tbody>\n",
       "    <tr>\n",
       "      <th>0</th>\n",
       "      <td>732</td>\n",
       "      <td>GF05</td>\n",
       "      <td>Frais de services</td>\n",
       "      <td>FA03</td>\n",
       "      <td>Abonnements</td>\n",
       "    </tr>\n",
       "    <tr>\n",
       "      <th>1</th>\n",
       "      <td>733</td>\n",
       "      <td>GF04</td>\n",
       "      <td>Produits Hors Station</td>\n",
       "      <td>FA05</td>\n",
       "      <td>Tr Autres tiers - Ristournes et commissions</td>\n",
       "    </tr>\n",
       "    <tr>\n",
       "      <th>2</th>\n",
       "      <td>734</td>\n",
       "      <td>GF04</td>\n",
       "      <td>Produits Hors Station</td>\n",
       "      <td>FA05</td>\n",
       "      <td>Tr Autres tiers - Ristournes et commissions</td>\n",
       "    </tr>\n",
       "    <tr>\n",
       "      <th>3</th>\n",
       "      <td>735</td>\n",
       "      <td>GF07</td>\n",
       "      <td>Caution et Garantie</td>\n",
       "      <td>FA15</td>\n",
       "      <td>CA Tr Autres tiers - Caution/Garantie</td>\n",
       "    </tr>\n",
       "    <tr>\n",
       "      <th>4</th>\n",
       "      <td>738</td>\n",
       "      <td>GF04</td>\n",
       "      <td>Produits Hors Station</td>\n",
       "      <td>FA17</td>\n",
       "      <td>Tr Parkings</td>\n",
       "    </tr>\n",
       "  </tbody>\n",
       "</table>\n",
       "</div>"
      ],
      "text/plain": [
       "  PRODUCT_CODE PRODUCT_GRAND_FAMILY_CODE PRODUCT_GRAND_FAMILY_NAME  \\\n",
       "0          732                      GF05         Frais de services   \n",
       "1          733                      GF04     Produits Hors Station   \n",
       "2          734                      GF04     Produits Hors Station   \n",
       "3          735                      GF07       Caution et Garantie   \n",
       "4          738                      GF04     Produits Hors Station   \n",
       "\n",
       "  PRODUCT_FAMILY_CODE                           PRODUCT_FAMILY_NAME  \n",
       "0                FA03                                   Abonnements  \n",
       "1                FA05  Tr Autres tiers - Ristournes et commissions   \n",
       "2                FA05  Tr Autres tiers - Ristournes et commissions   \n",
       "3                FA15         CA Tr Autres tiers - Caution/Garantie  \n",
       "4                FA17                                   Tr Parkings  "
      ]
     },
     "execution_count": 5,
     "metadata": {},
     "output_type": "execute_result"
    }
   ],
   "source": [
    "data.head()"
   ]
  },
  {
   "cell_type": "markdown",
   "id": "white-vehicle",
   "metadata": {},
   "source": [
    "# Nettoyage et preparation de données\n",
    "\n",
    "## Types des variables\n",
    "\n",
    "Dans cette partie, il s'agit de regarder de plus près le type de chaque variable et decider s'il est pertinent de les convertir vers d'autres types. Pour ce faire, analysons la sortie suivante : "
   ]
  },
  {
   "cell_type": "code",
   "execution_count": 13,
   "id": "close-variation",
   "metadata": {},
   "outputs": [
    {
     "name": "stdout",
     "output_type": "stream",
     "text": [
      "<class 'pandas.core.frame.DataFrame'>\n",
      "RangeIndex: 8472 entries, 0 to 8471\n",
      "Data columns (total 5 columns):\n",
      " #   Column                     Non-Null Count  Dtype \n",
      "---  ------                     --------------  ----- \n",
      " 0   PRODUCT_CODE               8472 non-null   object\n",
      " 1   PRODUCT_GRAND_FAMILY_CODE  8294 non-null   object\n",
      " 2   PRODUCT_GRAND_FAMILY_NAME  8294 non-null   object\n",
      " 3   PRODUCT_FAMILY_CODE        8294 non-null   object\n",
      " 4   PRODUCT_FAMILY_NAME        8294 non-null   object\n",
      "dtypes: object(5)\n",
      "memory usage: 331.1+ KB\n"
     ]
    }
   ],
   "source": [
    "data.info()"
   ]
  },
  {
   "cell_type": "markdown",
   "id": "about-hungarian",
   "metadata": {},
   "source": [
    "On remaruqe que toute les variables sont de type *object* (correspondant à string). Le type *object* ne pose aucun problème pour les variables qui sont de nature categorielles. C'est le cas pour toutes les variables dans cette table."
   ]
  },
  {
   "cell_type": "markdown",
   "id": "portuguese-filing",
   "metadata": {},
   "source": [
    "## Nombre de modalités par variables"
   ]
  },
  {
   "cell_type": "code",
   "execution_count": 15,
   "id": "outside-collins",
   "metadata": {},
   "outputs": [
    {
     "data": {
      "text/html": [
       "<div>\n",
       "<style scoped>\n",
       "    .dataframe tbody tr th:only-of-type {\n",
       "        vertical-align: middle;\n",
       "    }\n",
       "\n",
       "    .dataframe tbody tr th {\n",
       "        vertical-align: top;\n",
       "    }\n",
       "\n",
       "    .dataframe thead th {\n",
       "        text-align: right;\n",
       "    }\n",
       "</style>\n",
       "<table border=\"1\" class=\"dataframe\">\n",
       "  <thead>\n",
       "    <tr style=\"text-align: right;\">\n",
       "      <th></th>\n",
       "      <th>Nom_variables</th>\n",
       "      <th>Nombre_valeurs_uniques</th>\n",
       "    </tr>\n",
       "  </thead>\n",
       "  <tbody>\n",
       "    <tr>\n",
       "      <th>1</th>\n",
       "      <td>PRODUCT_GRAND_FAMILY_CODE</td>\n",
       "      <td>8</td>\n",
       "    </tr>\n",
       "    <tr>\n",
       "      <th>2</th>\n",
       "      <td>PRODUCT_GRAND_FAMILY_NAME</td>\n",
       "      <td>8</td>\n",
       "    </tr>\n",
       "    <tr>\n",
       "      <th>3</th>\n",
       "      <td>PRODUCT_FAMILY_CODE</td>\n",
       "      <td>25</td>\n",
       "    </tr>\n",
       "    <tr>\n",
       "      <th>4</th>\n",
       "      <td>PRODUCT_FAMILY_NAME</td>\n",
       "      <td>25</td>\n",
       "    </tr>\n",
       "    <tr>\n",
       "      <th>0</th>\n",
       "      <td>PRODUCT_CODE</td>\n",
       "      <td>8472</td>\n",
       "    </tr>\n",
       "  </tbody>\n",
       "</table>\n",
       "</div>"
      ],
      "text/plain": [
       "               Nom_variables  Nombre_valeurs_uniques\n",
       "1  PRODUCT_GRAND_FAMILY_CODE                       8\n",
       "2  PRODUCT_GRAND_FAMILY_NAME                       8\n",
       "3        PRODUCT_FAMILY_CODE                      25\n",
       "4        PRODUCT_FAMILY_NAME                      25\n",
       "0               PRODUCT_CODE                    8472"
      ]
     },
     "execution_count": 15,
     "metadata": {},
     "output_type": "execute_result"
    }
   ],
   "source": [
    "# Connaitre le nombre de valeurs uniques pour toutes les colonnes dans le but de savoir quelles variables convertir en categorielle\n",
    "\n",
    "unique_counts = pd.DataFrame.from_records([(col, data[col].nunique()) for col in data.columns],\n",
    "                          columns=['Nom_variables', 'Nombre_valeurs_uniques']).sort_values(by=['Nombre_valeurs_uniques'])\n",
    "\n",
    "unique_counts"
   ]
  },
  {
   "cell_type": "markdown",
   "id": "incredible-negative",
   "metadata": {},
   "source": [
    "## Données manquantes\n",
    "\n",
    "Dans cette table, il y'a peu de données manquantes. Toutes les variables hormis PRODUCT_CODE ont des données manquantes et le même nombre : 178 soit 2.1%. Il s'agit très certainement des mêmes individus pour toutes les variables. Donc en omettant ces données manquantes, on supprimera 178 lignes de notre jeu de données. "
   ]
  },
  {
   "cell_type": "code",
   "execution_count": 21,
   "id": "considered-walker",
   "metadata": {},
   "outputs": [
    {
     "data": {
      "text/html": [
       "<div>\n",
       "<style scoped>\n",
       "    .dataframe tbody tr th:only-of-type {\n",
       "        vertical-align: middle;\n",
       "    }\n",
       "\n",
       "    .dataframe tbody tr th {\n",
       "        vertical-align: top;\n",
       "    }\n",
       "\n",
       "    .dataframe thead th {\n",
       "        text-align: right;\n",
       "    }\n",
       "</style>\n",
       "<table border=\"1\" class=\"dataframe\">\n",
       "  <thead>\n",
       "    <tr style=\"text-align: right;\">\n",
       "      <th></th>\n",
       "      <th>Nom_variables</th>\n",
       "      <th>Nombre_valeurs_manquantes</th>\n",
       "      <th>%NA</th>\n",
       "    </tr>\n",
       "  </thead>\n",
       "  <tbody>\n",
       "    <tr>\n",
       "      <th>0</th>\n",
       "      <td>PRODUCT_CODE</td>\n",
       "      <td>0</td>\n",
       "      <td>0.0</td>\n",
       "    </tr>\n",
       "    <tr>\n",
       "      <th>1</th>\n",
       "      <td>PRODUCT_GRAND_FAMILY_CODE</td>\n",
       "      <td>0</td>\n",
       "      <td>0.0</td>\n",
       "    </tr>\n",
       "    <tr>\n",
       "      <th>2</th>\n",
       "      <td>PRODUCT_GRAND_FAMILY_NAME</td>\n",
       "      <td>0</td>\n",
       "      <td>0.0</td>\n",
       "    </tr>\n",
       "    <tr>\n",
       "      <th>3</th>\n",
       "      <td>PRODUCT_FAMILY_CODE</td>\n",
       "      <td>0</td>\n",
       "      <td>0.0</td>\n",
       "    </tr>\n",
       "    <tr>\n",
       "      <th>4</th>\n",
       "      <td>PRODUCT_FAMILY_NAME</td>\n",
       "      <td>0</td>\n",
       "      <td>0.0</td>\n",
       "    </tr>\n",
       "  </tbody>\n",
       "</table>\n",
       "</div>"
      ],
      "text/plain": [
       "               Nom_variables  Nombre_valeurs_manquantes  %NA\n",
       "0               PRODUCT_CODE                          0  0.0\n",
       "1  PRODUCT_GRAND_FAMILY_CODE                          0  0.0\n",
       "2  PRODUCT_GRAND_FAMILY_NAME                          0  0.0\n",
       "3        PRODUCT_FAMILY_CODE                          0  0.0\n",
       "4        PRODUCT_FAMILY_NAME                          0  0.0"
      ]
     },
     "execution_count": 21,
     "metadata": {},
     "output_type": "execute_result"
    }
   ],
   "source": [
    "# Données manquantes\n",
    "\n",
    "# Connaitre le nombre de valeurs uniques pour toutes les colonnes dans le but de savoir quelles variables convertir en categorielle\n",
    "\n",
    "NA_counts = pd.DataFrame.from_records([(col\n",
    "                                        , data[col].isna().sum()\n",
    "                                       , round((data[col].isna().sum())/(data[col].size),3)) for col in data.columns],\n",
    "                          columns=['Nom_variables', 'Nombre_valeurs_manquantes',\"%NA\"]).sort_values(by=['Nombre_valeurs_manquantes'], ascending=False)\n",
    "\n",
    "NA_counts"
   ]
  },
  {
   "cell_type": "code",
   "execution_count": 22,
   "id": "attended-update",
   "metadata": {},
   "outputs": [
    {
     "name": "stdout",
     "output_type": "stream",
     "text": [
      "<class 'pandas.core.frame.DataFrame'>\n",
      "Int64Index: 8294 entries, 0 to 8471\n",
      "Data columns (total 5 columns):\n",
      " #   Column                     Non-Null Count  Dtype \n",
      "---  ------                     --------------  ----- \n",
      " 0   PRODUCT_CODE               8294 non-null   object\n",
      " 1   PRODUCT_GRAND_FAMILY_CODE  8294 non-null   object\n",
      " 2   PRODUCT_GRAND_FAMILY_NAME  8294 non-null   object\n",
      " 3   PRODUCT_FAMILY_CODE        8294 non-null   object\n",
      " 4   PRODUCT_FAMILY_NAME        8294 non-null   object\n",
      "dtypes: object(5)\n",
      "memory usage: 388.8+ KB\n"
     ]
    }
   ],
   "source": [
    "data = data.copy().dropna()\n",
    "data.info()"
   ]
  },
  {
   "cell_type": "markdown",
   "id": "prime-vancouver",
   "metadata": {},
   "source": [
    "# Description sommaire des données\n",
    "\n",
    "Le tableau ci dessous decrit brievement chaque variable. Il y'a dans ce tableau pour chque variable :\n",
    "* count : le nombre d'observations (exclu les données manquantes :NAN)\n",
    "* unique : le nombre de valeurs (modalités) discincts\n",
    "* top : la valeur la plus fréquente\n",
    "* freq : la frequence de la valeur la plus frequente (nombre brute=> comptage)\n",
    "* freq_p : la proportion de la valeur la plus frequente ( en %)\n",
    "\n",
    "Ainsi, on peut remarquer que les produits de type **Abonnements** sont majoritairement vendus (>90%). \n",
    "\n",
    "Les recettes proviennes donc des **frais de services**.\n"
   ]
  },
  {
   "cell_type": "code",
   "execution_count": 15,
   "id": "asian-tenant",
   "metadata": {},
   "outputs": [
    {
     "data": {
      "text/html": [
       "<div>\n",
       "<style scoped>\n",
       "    .dataframe tbody tr th:only-of-type {\n",
       "        vertical-align: middle;\n",
       "    }\n",
       "\n",
       "    .dataframe tbody tr th {\n",
       "        vertical-align: top;\n",
       "    }\n",
       "\n",
       "    .dataframe thead th {\n",
       "        text-align: right;\n",
       "    }\n",
       "</style>\n",
       "<table border=\"1\" class=\"dataframe\">\n",
       "  <thead>\n",
       "    <tr style=\"text-align: right;\">\n",
       "      <th></th>\n",
       "      <th>PRODUCT_CODE</th>\n",
       "      <th>PRODUCT_GRAND_FAMILY_CODE</th>\n",
       "      <th>PRODUCT_GRAND_FAMILY_NAME</th>\n",
       "      <th>PRODUCT_FAMILY_CODE</th>\n",
       "      <th>PRODUCT_FAMILY_NAME</th>\n",
       "    </tr>\n",
       "  </thead>\n",
       "  <tbody>\n",
       "    <tr>\n",
       "      <th>count</th>\n",
       "      <td>8472</td>\n",
       "      <td>8294</td>\n",
       "      <td>8294</td>\n",
       "      <td>8294</td>\n",
       "      <td>8294</td>\n",
       "    </tr>\n",
       "    <tr>\n",
       "      <th>unique</th>\n",
       "      <td>8472</td>\n",
       "      <td>8</td>\n",
       "      <td>8</td>\n",
       "      <td>25</td>\n",
       "      <td>25</td>\n",
       "    </tr>\n",
       "    <tr>\n",
       "      <th>top</th>\n",
       "      <td>X6IA</td>\n",
       "      <td>GF05</td>\n",
       "      <td>Frais de services</td>\n",
       "      <td>FA03</td>\n",
       "      <td>Abonnements</td>\n",
       "    </tr>\n",
       "    <tr>\n",
       "      <th>freq</th>\n",
       "      <td>1</td>\n",
       "      <td>7816</td>\n",
       "      <td>7816</td>\n",
       "      <td>7657</td>\n",
       "      <td>7657</td>\n",
       "    </tr>\n",
       "  </tbody>\n",
       "</table>\n",
       "</div>"
      ],
      "text/plain": [
       "       PRODUCT_CODE PRODUCT_GRAND_FAMILY_CODE PRODUCT_GRAND_FAMILY_NAME  \\\n",
       "count          8472                      8294                      8294   \n",
       "unique         8472                         8                         8   \n",
       "top            X6IA                      GF05         Frais de services   \n",
       "freq              1                      7816                      7816   \n",
       "\n",
       "       PRODUCT_FAMILY_CODE PRODUCT_FAMILY_NAME  \n",
       "count                 8294                8294  \n",
       "unique                  25                  25  \n",
       "top                   FA03         Abonnements  \n",
       "freq                  7657                7657  "
      ]
     },
     "execution_count": 15,
     "metadata": {},
     "output_type": "execute_result"
    }
   ],
   "source": [
    "stats = data.describe()\n",
    "stats"
   ]
  },
  {
   "cell_type": "code",
   "execution_count": 16,
   "id": "auburn-iceland",
   "metadata": {},
   "outputs": [
    {
     "data": {
      "text/html": [
       "<div>\n",
       "<style scoped>\n",
       "    .dataframe tbody tr th:only-of-type {\n",
       "        vertical-align: middle;\n",
       "    }\n",
       "\n",
       "    .dataframe tbody tr th {\n",
       "        vertical-align: top;\n",
       "    }\n",
       "\n",
       "    .dataframe thead th {\n",
       "        text-align: right;\n",
       "    }\n",
       "</style>\n",
       "<table border=\"1\" class=\"dataframe\">\n",
       "  <thead>\n",
       "    <tr style=\"text-align: right;\">\n",
       "      <th></th>\n",
       "      <th>PRODUCT_CODE</th>\n",
       "      <th>PRODUCT_GRAND_FAMILY_CODE</th>\n",
       "      <th>PRODUCT_GRAND_FAMILY_NAME</th>\n",
       "      <th>PRODUCT_FAMILY_CODE</th>\n",
       "      <th>PRODUCT_FAMILY_NAME</th>\n",
       "    </tr>\n",
       "  </thead>\n",
       "  <tbody>\n",
       "    <tr>\n",
       "      <th>count</th>\n",
       "      <td>8472</td>\n",
       "      <td>8294</td>\n",
       "      <td>8294</td>\n",
       "      <td>8294</td>\n",
       "      <td>8294</td>\n",
       "    </tr>\n",
       "    <tr>\n",
       "      <th>unique</th>\n",
       "      <td>8472</td>\n",
       "      <td>8</td>\n",
       "      <td>8</td>\n",
       "      <td>25</td>\n",
       "      <td>25</td>\n",
       "    </tr>\n",
       "    <tr>\n",
       "      <th>top</th>\n",
       "      <td>X6IA</td>\n",
       "      <td>GF05</td>\n",
       "      <td>Frais de services</td>\n",
       "      <td>FA03</td>\n",
       "      <td>Abonnements</td>\n",
       "    </tr>\n",
       "    <tr>\n",
       "      <th>freq</th>\n",
       "      <td>1</td>\n",
       "      <td>7816</td>\n",
       "      <td>7816</td>\n",
       "      <td>7657</td>\n",
       "      <td>7657</td>\n",
       "    </tr>\n",
       "    <tr>\n",
       "      <th>freq_p</th>\n",
       "      <td>0.0</td>\n",
       "      <td>0.942</td>\n",
       "      <td>0.942</td>\n",
       "      <td>0.923</td>\n",
       "      <td>0.923</td>\n",
       "    </tr>\n",
       "  </tbody>\n",
       "</table>\n",
       "</div>"
      ],
      "text/plain": [
       "       PRODUCT_CODE PRODUCT_GRAND_FAMILY_CODE PRODUCT_GRAND_FAMILY_NAME  \\\n",
       "count          8472                      8294                      8294   \n",
       "unique         8472                         8                         8   \n",
       "top            X6IA                      GF05         Frais de services   \n",
       "freq              1                      7816                      7816   \n",
       "freq_p          0.0                     0.942                     0.942   \n",
       "\n",
       "       PRODUCT_FAMILY_CODE PRODUCT_FAMILY_NAME  \n",
       "count                 8294                8294  \n",
       "unique                  25                  25  \n",
       "top                   FA03         Abonnements  \n",
       "freq                  7657                7657  \n",
       "freq_p               0.923               0.923  "
      ]
     },
     "execution_count": 16,
     "metadata": {},
     "output_type": "execute_result"
    }
   ],
   "source": [
    "# Ajout de la frequence en %\n",
    "\n",
    "stats.loc[\"freq_p\"] = pd.Series(stats.loc[\"freq\"]/stats.loc[\"count\"]).apply(lambda value : round(value,3)) # frequence en pourcentage\n",
    "#stats = pd.DataFrame(np.insert(stats.values, stats.shape[0], freq_p, axis=0))\n",
    "stats"
   ]
  },
  {
   "cell_type": "markdown",
   "id": "chicken-surge",
   "metadata": {},
   "source": [
    "# Autres analyses\n",
    "\n",
    "On remarque dans le tableau ci-dessous que les produits les plus vendus sont de la famille **Abonnements** avec plus de **92%** des transactions."
   ]
  },
  {
   "cell_type": "code",
   "execution_count": 23,
   "id": "expected-punch",
   "metadata": {},
   "outputs": [
    {
     "data": {
      "text/plain": [
       "PRODUCT_FAMILY_NAME\n",
       "Abonnements                                     0.923197\n",
       "Tr Péages                                       0.014468\n",
       "Frais à l acte                                  0.013504\n",
       "Transactions stations carburants                0.010490\n",
       "Transactions Station Boutique                   0.007475\n",
       "Transactions Station Lavage                     0.004099\n",
       "Famille Produits Non Utilisés                   0.003738\n",
       "Frais sur transactions Péages                   0.003617\n",
       "Tr Autres tiers - Services Assistance 24/24     0.003617\n",
       "Tr Autres tiers - CA C.H.R.                     0.003497\n",
       "Remboursement divers                            0.002170\n",
       "Tr Parkings                                     0.002050\n",
       "Ristournes et commissions carburants            0.001929\n",
       "CA Tr Autres tiers - Caution/Garantie           0.001447\n",
       "Frais sur transactions Stations                 0.001206\n",
       "Tr Electriques                                  0.001085\n",
       "Tr Autres tiers - Ristournes et commissions     0.000603\n",
       "Ecotaxe                                         0.000482\n",
       "Frais sur transactions Parking                  0.000362\n",
       "Ristournes et commissions Lavage                0.000241\n",
       "Frais sur transactions Electrique               0.000241\n",
       "Facturation divers                              0.000121\n",
       "Frais sur transactions Mobility                 0.000121\n",
       "Frais sur transactions Hôtels-Restaurants       0.000121\n",
       "GESTE COMMERCIAL                                0.000121\n",
       "dtype: float64"
      ]
     },
     "execution_count": 23,
     "metadata": {},
     "output_type": "execute_result"
    }
   ],
   "source": [
    "data.value_counts(\"PRODUCT_FAMILY_NAME\", normalize=True)"
   ]
  },
  {
   "cell_type": "markdown",
   "id": "about-primary",
   "metadata": {},
   "source": [
    "# Enregistrer les données propres"
   ]
  },
  {
   "cell_type": "code",
   "execution_count": 20,
   "id": "asian-alexandria",
   "metadata": {},
   "outputs": [],
   "source": [
    "data.to_csv('./data/mapping_product.csv',sep=';',encoding='latin-1',index=False)"
   ]
  }
 ],
 "metadata": {
  "kernelspec": {
   "display_name": "Python 3",
   "language": "python",
   "name": "python3"
  },
  "language_info": {
   "codemirror_mode": {
    "name": "ipython",
    "version": 3
   },
   "file_extension": ".py",
   "mimetype": "text/x-python",
   "name": "python",
   "nbconvert_exporter": "python",
   "pygments_lexer": "ipython3",
   "version": "3.7.3"
  }
 },
 "nbformat": 4,
 "nbformat_minor": 5
}
