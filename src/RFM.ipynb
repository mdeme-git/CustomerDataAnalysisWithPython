{
 "cells": [
  {
   "cell_type": "code",
   "execution_count": 38,
   "id": "least-universal",
   "metadata": {},
   "outputs": [],
   "source": [
    "#Importation des packages\n",
    "\n",
    "import pandas as pd\n",
    "import matplotlib.pyplot as plt\n",
    "import datetime as dt\n",
    "import os "
   ]
  },
  {
   "cell_type": "code",
   "execution_count": 39,
   "id": "conventional-container",
   "metadata": {},
   "outputs": [
    {
     "name": "stdout",
     "output_type": "stream",
     "text": [
      "C:\\Users\\mouss\\OneDrive\\Documents\\TotalEnergies\n"
     ]
    }
   ],
   "source": [
    "# Definir le repertoire de travail \n",
    "pwd = \"C:\\\\Users\\\\mouss\\\\OneDrive\\\\Documents\\\\TotalEnergies\" \n",
    "os.chdir(pwd) \n",
    " \n",
    "# Afficher le nouveau repertoire de travail \n",
    "print(os.getcwd()) "
   ]
  },
  {
   "cell_type": "code",
   "execution_count": 43,
   "id": "ordinary-sentence",
   "metadata": {},
   "outputs": [],
   "source": [
    "tran = pd.read_csv(\"./data/table_transactions.csv\",sep = \";\"\n",
    "                       #,index_col = \"EP_CODE\"\n",
    "                      , encoding= 'latin-1')"
   ]
  },
  {
   "cell_type": "code",
   "execution_count": 67,
   "id": "eligible-stupid",
   "metadata": {},
   "outputs": [
    {
     "data": {
      "text/html": [
       "<div>\n",
       "<style scoped>\n",
       "    .dataframe tbody tr th:only-of-type {\n",
       "        vertical-align: middle;\n",
       "    }\n",
       "\n",
       "    .dataframe tbody tr th {\n",
       "        vertical-align: top;\n",
       "    }\n",
       "\n",
       "    .dataframe thead th {\n",
       "        text-align: right;\n",
       "    }\n",
       "</style>\n",
       "<table border=\"1\" class=\"dataframe\">\n",
       "  <thead>\n",
       "    <tr style=\"text-align: right;\">\n",
       "      <th></th>\n",
       "      <th>EP_CODE</th>\n",
       "      <th>TR_PRODUCT_CODE</th>\n",
       "      <th>TR_PRODUCT_TYPE</th>\n",
       "      <th>TR_SUPPORT_CODE</th>\n",
       "      <th>TR_DATE</th>\n",
       "      <th>TR_REVENUE</th>\n",
       "      <th>TR_VOLUME</th>\n",
       "      <th>TR_COUNT</th>\n",
       "    </tr>\n",
       "  </thead>\n",
       "  <tbody>\n",
       "    <tr>\n",
       "      <th>0</th>\n",
       "      <td>87322382</td>\n",
       "      <td>730</td>\n",
       "      <td>Non-Fuel</td>\n",
       "      <td>C100</td>\n",
       "      <td>2021-08-02</td>\n",
       "      <td>132.12</td>\n",
       "      <td>0.00</td>\n",
       "      <td>35</td>\n",
       "    </tr>\n",
       "    <tr>\n",
       "      <th>1</th>\n",
       "      <td>87297430</td>\n",
       "      <td>102</td>\n",
       "      <td>Fuel</td>\n",
       "      <td>C100</td>\n",
       "      <td>2021-08-03</td>\n",
       "      <td>132.54</td>\n",
       "      <td>102.68</td>\n",
       "      <td>4</td>\n",
       "    </tr>\n",
       "    <tr>\n",
       "      <th>2</th>\n",
       "      <td>87128600</td>\n",
       "      <td>222</td>\n",
       "      <td>Fuel</td>\n",
       "      <td>C200</td>\n",
       "      <td>2021-08-03</td>\n",
       "      <td>323.46</td>\n",
       "      <td>227.94</td>\n",
       "      <td>11</td>\n",
       "    </tr>\n",
       "    <tr>\n",
       "      <th>3</th>\n",
       "      <td>87240226</td>\n",
       "      <td>112</td>\n",
       "      <td>Fuel</td>\n",
       "      <td>C700</td>\n",
       "      <td>2021-08-03</td>\n",
       "      <td>75.84</td>\n",
       "      <td>57.27</td>\n",
       "      <td>1</td>\n",
       "    </tr>\n",
       "    <tr>\n",
       "      <th>4</th>\n",
       "      <td>87185411</td>\n",
       "      <td>102</td>\n",
       "      <td>Fuel</td>\n",
       "      <td>C100</td>\n",
       "      <td>2021-08-03</td>\n",
       "      <td>2551.19</td>\n",
       "      <td>2036.94</td>\n",
       "      <td>41</td>\n",
       "    </tr>\n",
       "  </tbody>\n",
       "</table>\n",
       "</div>"
      ],
      "text/plain": [
       "    EP_CODE  TR_PRODUCT_CODE TR_PRODUCT_TYPE TR_SUPPORT_CODE     TR_DATE  \\\n",
       "0  87322382              730        Non-Fuel            C100  2021-08-02   \n",
       "1  87297430              102            Fuel            C100  2021-08-03   \n",
       "2  87128600              222            Fuel            C200  2021-08-03   \n",
       "3  87240226              112            Fuel            C700  2021-08-03   \n",
       "4  87185411              102            Fuel            C100  2021-08-03   \n",
       "\n",
       "   TR_REVENUE  TR_VOLUME  TR_COUNT  \n",
       "0      132.12       0.00        35  \n",
       "1      132.54     102.68         4  \n",
       "2      323.46     227.94        11  \n",
       "3       75.84      57.27         1  \n",
       "4     2551.19    2036.94        41  "
      ]
     },
     "execution_count": 67,
     "metadata": {},
     "output_type": "execute_result"
    }
   ],
   "source": [
    "tran.head()"
   ]
  },
  {
   "cell_type": "code",
   "execution_count": 68,
   "id": "floral-external",
   "metadata": {},
   "outputs": [
    {
     "name": "stdout",
     "output_type": "stream",
     "text": [
      "<class 'pandas.core.frame.DataFrame'>\n",
      "RangeIndex: 1314498 entries, 0 to 1314497\n",
      "Data columns (total 8 columns):\n",
      " #   Column           Non-Null Count    Dtype  \n",
      "---  ------           --------------    -----  \n",
      " 0   EP_CODE          1314498 non-null  int64  \n",
      " 1   TR_PRODUCT_CODE  1314498 non-null  int64  \n",
      " 2   TR_PRODUCT_TYPE  1314498 non-null  object \n",
      " 3   TR_SUPPORT_CODE  1312833 non-null  object \n",
      " 4   TR_DATE          1314498 non-null  object \n",
      " 5   TR_REVENUE       1314498 non-null  float64\n",
      " 6   TR_VOLUME        1312477 non-null  float64\n",
      " 7   TR_COUNT         1314498 non-null  int64  \n",
      "dtypes: float64(2), int64(3), object(3)\n",
      "memory usage: 80.2+ MB\n"
     ]
    }
   ],
   "source": [
    "tran.info()"
   ]
  },
  {
   "cell_type": "code",
   "execution_count": 69,
   "id": "gentle-provision",
   "metadata": {},
   "outputs": [
    {
     "name": "stdout",
     "output_type": "stream",
     "text": [
      "<class 'pandas.core.frame.DataFrame'>\n",
      "RangeIndex: 1314498 entries, 0 to 1314497\n",
      "Data columns (total 8 columns):\n",
      " #   Column           Non-Null Count    Dtype         \n",
      "---  ------           --------------    -----         \n",
      " 0   EP_CODE          1314498 non-null  int64         \n",
      " 1   TR_PRODUCT_CODE  1314498 non-null  int64         \n",
      " 2   TR_PRODUCT_TYPE  1314498 non-null  object        \n",
      " 3   TR_SUPPORT_CODE  1312833 non-null  object        \n",
      " 4   TR_DATE          1314498 non-null  datetime64[ns]\n",
      " 5   TR_REVENUE       1314498 non-null  float64       \n",
      " 6   TR_VOLUME        1312477 non-null  float64       \n",
      " 7   TR_COUNT         1314498 non-null  int64         \n",
      "dtypes: datetime64[ns](1), float64(2), int64(3), object(2)\n",
      "memory usage: 80.2+ MB\n"
     ]
    }
   ],
   "source": [
    "tran['TR_DATE'] = pd.to_datetime(tran['TR_DATE'])\n",
    "tran.info()"
   ]
  },
  {
   "cell_type": "markdown",
   "id": "immune-albania",
   "metadata": {},
   "source": [
    "# RFM"
   ]
  },
  {
   "cell_type": "code",
   "execution_count": 71,
   "id": "engaging-duncan",
   "metadata": {},
   "outputs": [],
   "source": [
    "df_rfm = tran[['EP_CODE','TR_DATE','TR_REVENUE','TR_COUNT']]"
   ]
  },
  {
   "cell_type": "code",
   "execution_count": 72,
   "id": "removable-colors",
   "metadata": {},
   "outputs": [
    {
     "name": "stdout",
     "output_type": "stream",
     "text": [
      "<class 'pandas.core.frame.DataFrame'>\n",
      "RangeIndex: 1314498 entries, 0 to 1314497\n",
      "Data columns (total 4 columns):\n",
      " #   Column      Non-Null Count    Dtype         \n",
      "---  ------      --------------    -----         \n",
      " 0   EP_CODE     1314498 non-null  int64         \n",
      " 1   TR_DATE     1314498 non-null  datetime64[ns]\n",
      " 2   TR_REVENUE  1314498 non-null  float64       \n",
      " 3   TR_COUNT    1314498 non-null  int64         \n",
      "dtypes: datetime64[ns](1), float64(1), int64(2)\n",
      "memory usage: 40.1 MB\n"
     ]
    }
   ],
   "source": [
    "df_rfm.info()"
   ]
  },
  {
   "cell_type": "code",
   "execution_count": 73,
   "id": "different-beaver",
   "metadata": {},
   "outputs": [
    {
     "data": {
      "text/plain": [
       "datetime.datetime(2021, 8, 14, 0, 0)"
      ]
     },
     "execution_count": 73,
     "metadata": {},
     "output_type": "execute_result"
    }
   ],
   "source": [
    "PRESENT = dt.datetime(2021,8,14)  # Definir le present comme le 14 août 2021\n",
    "PRESENT"
   ]
  },
  {
   "cell_type": "code",
   "execution_count": 74,
   "id": "united-spirit",
   "metadata": {},
   "outputs": [],
   "source": [
    "rfm = df_rfm.groupby('EP_CODE').agg({'TR_DATE': lambda date: (PRESENT - date.max()).days,\n",
    "                                        'TR_COUNT': lambda num: num.sum(),\n",
    "                                        'TR_REVENUE': lambda revenue: revenue.sum()})"
   ]
  },
  {
   "cell_type": "code",
   "execution_count": 75,
   "id": "rocky-airline",
   "metadata": {},
   "outputs": [
    {
     "data": {
      "text/html": [
       "<div>\n",
       "<style scoped>\n",
       "    .dataframe tbody tr th:only-of-type {\n",
       "        vertical-align: middle;\n",
       "    }\n",
       "\n",
       "    .dataframe tbody tr th {\n",
       "        vertical-align: top;\n",
       "    }\n",
       "\n",
       "    .dataframe thead th {\n",
       "        text-align: right;\n",
       "    }\n",
       "</style>\n",
       "<table border=\"1\" class=\"dataframe\">\n",
       "  <thead>\n",
       "    <tr style=\"text-align: right;\">\n",
       "      <th></th>\n",
       "      <th>TR_DATE</th>\n",
       "      <th>TR_COUNT</th>\n",
       "      <th>TR_REVENUE</th>\n",
       "    </tr>\n",
       "    <tr>\n",
       "      <th>EP_CODE</th>\n",
       "      <th></th>\n",
       "      <th></th>\n",
       "      <th></th>\n",
       "    </tr>\n",
       "  </thead>\n",
       "  <tbody>\n",
       "    <tr>\n",
       "      <th>87000019</th>\n",
       "      <td>3</td>\n",
       "      <td>67</td>\n",
       "      <td>327.35</td>\n",
       "    </tr>\n",
       "    <tr>\n",
       "      <th>87000052</th>\n",
       "      <td>2</td>\n",
       "      <td>15</td>\n",
       "      <td>523.47</td>\n",
       "    </tr>\n",
       "    <tr>\n",
       "      <th>87000070</th>\n",
       "      <td>1</td>\n",
       "      <td>55</td>\n",
       "      <td>3500.22</td>\n",
       "    </tr>\n",
       "    <tr>\n",
       "      <th>87000076</th>\n",
       "      <td>2</td>\n",
       "      <td>31</td>\n",
       "      <td>471.55</td>\n",
       "    </tr>\n",
       "    <tr>\n",
       "      <th>87000088</th>\n",
       "      <td>3</td>\n",
       "      <td>3</td>\n",
       "      <td>189.35</td>\n",
       "    </tr>\n",
       "  </tbody>\n",
       "</table>\n",
       "</div>"
      ],
      "text/plain": [
       "          TR_DATE  TR_COUNT  TR_REVENUE\n",
       "EP_CODE                                \n",
       "87000019        3        67      327.35\n",
       "87000052        2        15      523.47\n",
       "87000070        1        55     3500.22\n",
       "87000076        2        31      471.55\n",
       "87000088        3         3      189.35"
      ]
     },
     "execution_count": 75,
     "metadata": {},
     "output_type": "execute_result"
    }
   ],
   "source": [
    "rfm.head()"
   ]
  },
  {
   "cell_type": "code",
   "execution_count": 76,
   "id": "professional-english",
   "metadata": {},
   "outputs": [
    {
     "name": "stdout",
     "output_type": "stream",
     "text": [
      "<class 'pandas.core.frame.DataFrame'>\n",
      "Int64Index: 138527 entries, 87000019 to 87989974\n",
      "Data columns (total 3 columns):\n",
      " #   Column      Non-Null Count   Dtype  \n",
      "---  ------      --------------   -----  \n",
      " 0   TR_DATE     138527 non-null  int64  \n",
      " 1   TR_COUNT    138527 non-null  int64  \n",
      " 2   TR_REVENUE  138527 non-null  float64\n",
      "dtypes: float64(1), int64(2)\n",
      "memory usage: 4.2 MB\n"
     ]
    }
   ],
   "source": [
    "rfm.info()"
   ]
  },
  {
   "cell_type": "code",
   "execution_count": 77,
   "id": "recognized-withdrawal",
   "metadata": {},
   "outputs": [],
   "source": [
    "# Changer le nom des colonnes \n",
    "\n",
    "rfm.columns=['recency','frequency','monetary']"
   ]
  },
  {
   "cell_type": "code",
   "execution_count": 78,
   "id": "surprised-florist",
   "metadata": {},
   "outputs": [
    {
     "data": {
      "text/html": [
       "<div>\n",
       "<style scoped>\n",
       "    .dataframe tbody tr th:only-of-type {\n",
       "        vertical-align: middle;\n",
       "    }\n",
       "\n",
       "    .dataframe tbody tr th {\n",
       "        vertical-align: top;\n",
       "    }\n",
       "\n",
       "    .dataframe thead th {\n",
       "        text-align: right;\n",
       "    }\n",
       "</style>\n",
       "<table border=\"1\" class=\"dataframe\">\n",
       "  <thead>\n",
       "    <tr style=\"text-align: right;\">\n",
       "      <th></th>\n",
       "      <th>recency</th>\n",
       "      <th>frequency</th>\n",
       "      <th>monetary</th>\n",
       "    </tr>\n",
       "    <tr>\n",
       "      <th>EP_CODE</th>\n",
       "      <th></th>\n",
       "      <th></th>\n",
       "      <th></th>\n",
       "    </tr>\n",
       "  </thead>\n",
       "  <tbody>\n",
       "    <tr>\n",
       "      <th>87000019</th>\n",
       "      <td>3</td>\n",
       "      <td>67</td>\n",
       "      <td>327.35</td>\n",
       "    </tr>\n",
       "    <tr>\n",
       "      <th>87000052</th>\n",
       "      <td>2</td>\n",
       "      <td>15</td>\n",
       "      <td>523.47</td>\n",
       "    </tr>\n",
       "    <tr>\n",
       "      <th>87000070</th>\n",
       "      <td>1</td>\n",
       "      <td>55</td>\n",
       "      <td>3500.22</td>\n",
       "    </tr>\n",
       "    <tr>\n",
       "      <th>87000076</th>\n",
       "      <td>2</td>\n",
       "      <td>31</td>\n",
       "      <td>471.55</td>\n",
       "    </tr>\n",
       "    <tr>\n",
       "      <th>87000088</th>\n",
       "      <td>3</td>\n",
       "      <td>3</td>\n",
       "      <td>189.35</td>\n",
       "    </tr>\n",
       "  </tbody>\n",
       "</table>\n",
       "</div>"
      ],
      "text/plain": [
       "          recency  frequency  monetary\n",
       "EP_CODE                               \n",
       "87000019        3         67    327.35\n",
       "87000052        2         15    523.47\n",
       "87000070        1         55   3500.22\n",
       "87000076        2         31    471.55\n",
       "87000088        3          3    189.35"
      ]
     },
     "execution_count": 78,
     "metadata": {},
     "output_type": "execute_result"
    }
   ],
   "source": [
    "rfm.head()"
   ]
  },
  {
   "cell_type": "code",
   "execution_count": 79,
   "id": "structural-cologne",
   "metadata": {},
   "outputs": [
    {
     "data": {
      "text/html": [
       "<div>\n",
       "<style scoped>\n",
       "    .dataframe tbody tr th:only-of-type {\n",
       "        vertical-align: middle;\n",
       "    }\n",
       "\n",
       "    .dataframe tbody tr th {\n",
       "        vertical-align: top;\n",
       "    }\n",
       "\n",
       "    .dataframe thead th {\n",
       "        text-align: right;\n",
       "    }\n",
       "</style>\n",
       "<table border=\"1\" class=\"dataframe\">\n",
       "  <thead>\n",
       "    <tr style=\"text-align: right;\">\n",
       "      <th></th>\n",
       "      <th>recency</th>\n",
       "      <th>frequency</th>\n",
       "      <th>monetary</th>\n",
       "    </tr>\n",
       "  </thead>\n",
       "  <tbody>\n",
       "    <tr>\n",
       "      <th>count</th>\n",
       "      <td>138527.000000</td>\n",
       "      <td>138527.000000</td>\n",
       "      <td>1.385270e+05</td>\n",
       "    </tr>\n",
       "    <tr>\n",
       "      <th>mean</th>\n",
       "      <td>3.562129</td>\n",
       "      <td>32.409855</td>\n",
       "      <td>1.126568e+03</td>\n",
       "    </tr>\n",
       "    <tr>\n",
       "      <th>std</th>\n",
       "      <td>3.104698</td>\n",
       "      <td>260.024939</td>\n",
       "      <td>1.659381e+04</td>\n",
       "    </tr>\n",
       "    <tr>\n",
       "      <th>min</th>\n",
       "      <td>1.000000</td>\n",
       "      <td>1.000000</td>\n",
       "      <td>1.300000e-01</td>\n",
       "    </tr>\n",
       "    <tr>\n",
       "      <th>25%</th>\n",
       "      <td>1.000000</td>\n",
       "      <td>2.000000</td>\n",
       "      <td>8.463500e+01</td>\n",
       "    </tr>\n",
       "    <tr>\n",
       "      <th>50%</th>\n",
       "      <td>2.000000</td>\n",
       "      <td>6.000000</td>\n",
       "      <td>2.073000e+02</td>\n",
       "    </tr>\n",
       "    <tr>\n",
       "      <th>75%</th>\n",
       "      <td>5.000000</td>\n",
       "      <td>18.000000</td>\n",
       "      <td>6.103750e+02</td>\n",
       "    </tr>\n",
       "    <tr>\n",
       "      <th>max</th>\n",
       "      <td>12.000000</td>\n",
       "      <td>49945.000000</td>\n",
       "      <td>5.243186e+06</td>\n",
       "    </tr>\n",
       "  </tbody>\n",
       "</table>\n",
       "</div>"
      ],
      "text/plain": [
       "             recency      frequency      monetary\n",
       "count  138527.000000  138527.000000  1.385270e+05\n",
       "mean        3.562129      32.409855  1.126568e+03\n",
       "std         3.104698     260.024939  1.659381e+04\n",
       "min         1.000000       1.000000  1.300000e-01\n",
       "25%         1.000000       2.000000  8.463500e+01\n",
       "50%         2.000000       6.000000  2.073000e+02\n",
       "75%         5.000000      18.000000  6.103750e+02\n",
       "max        12.000000   49945.000000  5.243186e+06"
      ]
     },
     "execution_count": 79,
     "metadata": {},
     "output_type": "execute_result"
    }
   ],
   "source": [
    "rfm.describe()"
   ]
  },
  {
   "cell_type": "markdown",
   "id": "sufficient-thread",
   "metadata": {},
   "source": [
    "# Récence\n",
    "On remarque que plus du tiers des clients ont effectués une transaction très recemment, c'est à dire à la date du **13 août 2021**. Donc on ne pourra faire que deux groupes à partir de la variable **récence**. "
   ]
  },
  {
   "cell_type": "code",
   "execution_count": 80,
   "id": "isolated-candle",
   "metadata": {},
   "outputs": [
    {
     "data": {
      "text/plain": [
       "1     0.376150\n",
       "2     0.156525\n",
       "3     0.110419\n",
       "4     0.072094\n",
       "5     0.056126\n",
       "8     0.053758\n",
       "7     0.036275\n",
       "9     0.035141\n",
       "6     0.031741\n",
       "10    0.028312\n",
       "11    0.022653\n",
       "12    0.020805\n",
       "Name: recency, dtype: float64"
      ]
     },
     "execution_count": 80,
     "metadata": {},
     "output_type": "execute_result"
    }
   ],
   "source": [
    "rfm['recency'].value_counts(normalize=True)"
   ]
  },
  {
   "cell_type": "markdown",
   "id": "sweet-drive",
   "metadata": {},
   "source": [
    "# Frequence"
   ]
  },
  {
   "cell_type": "code",
   "execution_count": 81,
   "id": "seasonal-tender",
   "metadata": {},
   "outputs": [
    {
     "data": {
      "text/plain": [
       "1       0.170248\n",
       "2       0.120525\n",
       "3       0.084265\n",
       "4       0.064522\n",
       "5       0.050315\n",
       "          ...   \n",
       "1484    0.000007\n",
       "1868    0.000007\n",
       "794     0.000007\n",
       "2075    0.000007\n",
       "1919    0.000007\n",
       "Name: frequency, Length: 1223, dtype: float64"
      ]
     },
     "execution_count": 81,
     "metadata": {},
     "output_type": "execute_result"
    }
   ],
   "source": [
    "rfm['frequency'].value_counts(normalize=True)"
   ]
  },
  {
   "cell_type": "markdown",
   "id": "pharmaceutical-wiring",
   "metadata": {},
   "source": [
    "# Monétaire"
   ]
  },
  {
   "cell_type": "code",
   "execution_count": 82,
   "id": "iraqi-drunk",
   "metadata": {},
   "outputs": [
    {
     "data": {
      "text/plain": [
       "41.67      0.001198\n",
       "50.00      0.000881\n",
       "3.00       0.000642\n",
       "66.67      0.000606\n",
       "25.00      0.000578\n",
       "             ...   \n",
       "428.67     0.000007\n",
       "486.65     0.000007\n",
       "3012.12    0.000007\n",
       "500.99     0.000007\n",
       "184.32     0.000007\n",
       "Name: monetary, Length: 85000, dtype: float64"
      ]
     },
     "execution_count": 82,
     "metadata": {},
     "output_type": "execute_result"
    }
   ],
   "source": [
    "rfm['monetary'].value_counts(normalize=True)"
   ]
  },
  {
   "cell_type": "markdown",
   "id": "elect-attachment",
   "metadata": {},
   "source": [
    "# Segmentation"
   ]
  },
  {
   "cell_type": "code",
   "execution_count": 83,
   "id": "certain-workshop",
   "metadata": {},
   "outputs": [],
   "source": [
    "rfm['r_median'] = pd.qcut(rfm['recency'], 2, ['2','1'])\n",
    "rfm['f_quintile'] = pd.qcut(rfm['frequency'], 5, ['1','2','3','4','5'])\n",
    "rfm['m_quintile'] = pd.qcut(rfm['monetary'], 5, ['1','2','3','4','5'])"
   ]
  },
  {
   "cell_type": "code",
   "execution_count": 84,
   "id": "auburn-geology",
   "metadata": {},
   "outputs": [
    {
     "data": {
      "text/html": [
       "<div>\n",
       "<style scoped>\n",
       "    .dataframe tbody tr th:only-of-type {\n",
       "        vertical-align: middle;\n",
       "    }\n",
       "\n",
       "    .dataframe tbody tr th {\n",
       "        vertical-align: top;\n",
       "    }\n",
       "\n",
       "    .dataframe thead th {\n",
       "        text-align: right;\n",
       "    }\n",
       "</style>\n",
       "<table border=\"1\" class=\"dataframe\">\n",
       "  <thead>\n",
       "    <tr style=\"text-align: right;\">\n",
       "      <th></th>\n",
       "      <th>recency</th>\n",
       "      <th>frequency</th>\n",
       "      <th>monetary</th>\n",
       "      <th>r_median</th>\n",
       "      <th>f_quintile</th>\n",
       "      <th>m_quintile</th>\n",
       "    </tr>\n",
       "    <tr>\n",
       "      <th>EP_CODE</th>\n",
       "      <th></th>\n",
       "      <th></th>\n",
       "      <th></th>\n",
       "      <th></th>\n",
       "      <th></th>\n",
       "      <th></th>\n",
       "    </tr>\n",
       "  </thead>\n",
       "  <tbody>\n",
       "    <tr>\n",
       "      <th>87000019</th>\n",
       "      <td>3</td>\n",
       "      <td>67</td>\n",
       "      <td>327.35</td>\n",
       "      <td>1</td>\n",
       "      <td>5</td>\n",
       "      <td>4</td>\n",
       "    </tr>\n",
       "    <tr>\n",
       "      <th>87000052</th>\n",
       "      <td>2</td>\n",
       "      <td>15</td>\n",
       "      <td>523.47</td>\n",
       "      <td>2</td>\n",
       "      <td>4</td>\n",
       "      <td>4</td>\n",
       "    </tr>\n",
       "    <tr>\n",
       "      <th>87000070</th>\n",
       "      <td>1</td>\n",
       "      <td>55</td>\n",
       "      <td>3500.22</td>\n",
       "      <td>2</td>\n",
       "      <td>5</td>\n",
       "      <td>5</td>\n",
       "    </tr>\n",
       "    <tr>\n",
       "      <th>87000076</th>\n",
       "      <td>2</td>\n",
       "      <td>31</td>\n",
       "      <td>471.55</td>\n",
       "      <td>2</td>\n",
       "      <td>5</td>\n",
       "      <td>4</td>\n",
       "    </tr>\n",
       "    <tr>\n",
       "      <th>87000088</th>\n",
       "      <td>3</td>\n",
       "      <td>3</td>\n",
       "      <td>189.35</td>\n",
       "      <td>1</td>\n",
       "      <td>2</td>\n",
       "      <td>3</td>\n",
       "    </tr>\n",
       "  </tbody>\n",
       "</table>\n",
       "</div>"
      ],
      "text/plain": [
       "          recency  frequency  monetary r_median f_quintile m_quintile\n",
       "EP_CODE                                                              \n",
       "87000019        3         67    327.35        1          5          4\n",
       "87000052        2         15    523.47        2          4          4\n",
       "87000070        1         55   3500.22        2          5          5\n",
       "87000076        2         31    471.55        2          5          4\n",
       "87000088        3          3    189.35        1          2          3"
      ]
     },
     "execution_count": 84,
     "metadata": {},
     "output_type": "execute_result"
    }
   ],
   "source": [
    "rfm.head()"
   ]
  },
  {
   "cell_type": "markdown",
   "id": "induced-prescription",
   "metadata": {},
   "source": [
    "# Score des clients"
   ]
  },
  {
   "cell_type": "code",
   "execution_count": 85,
   "id": "early-fundamental",
   "metadata": {},
   "outputs": [
    {
     "data": {
      "text/html": [
       "<div>\n",
       "<style scoped>\n",
       "    .dataframe tbody tr th:only-of-type {\n",
       "        vertical-align: middle;\n",
       "    }\n",
       "\n",
       "    .dataframe tbody tr th {\n",
       "        vertical-align: top;\n",
       "    }\n",
       "\n",
       "    .dataframe thead th {\n",
       "        text-align: right;\n",
       "    }\n",
       "</style>\n",
       "<table border=\"1\" class=\"dataframe\">\n",
       "  <thead>\n",
       "    <tr style=\"text-align: right;\">\n",
       "      <th></th>\n",
       "      <th>recency</th>\n",
       "      <th>frequency</th>\n",
       "      <th>monetary</th>\n",
       "      <th>r_median</th>\n",
       "      <th>f_quintile</th>\n",
       "      <th>m_quintile</th>\n",
       "      <th>RFM_Score</th>\n",
       "    </tr>\n",
       "    <tr>\n",
       "      <th>EP_CODE</th>\n",
       "      <th></th>\n",
       "      <th></th>\n",
       "      <th></th>\n",
       "      <th></th>\n",
       "      <th></th>\n",
       "      <th></th>\n",
       "      <th></th>\n",
       "    </tr>\n",
       "  </thead>\n",
       "  <tbody>\n",
       "    <tr>\n",
       "      <th>87000019</th>\n",
       "      <td>3</td>\n",
       "      <td>67</td>\n",
       "      <td>327.35</td>\n",
       "      <td>1</td>\n",
       "      <td>5</td>\n",
       "      <td>4</td>\n",
       "      <td>154</td>\n",
       "    </tr>\n",
       "    <tr>\n",
       "      <th>87000052</th>\n",
       "      <td>2</td>\n",
       "      <td>15</td>\n",
       "      <td>523.47</td>\n",
       "      <td>2</td>\n",
       "      <td>4</td>\n",
       "      <td>4</td>\n",
       "      <td>244</td>\n",
       "    </tr>\n",
       "    <tr>\n",
       "      <th>87000070</th>\n",
       "      <td>1</td>\n",
       "      <td>55</td>\n",
       "      <td>3500.22</td>\n",
       "      <td>2</td>\n",
       "      <td>5</td>\n",
       "      <td>5</td>\n",
       "      <td>255</td>\n",
       "    </tr>\n",
       "    <tr>\n",
       "      <th>87000076</th>\n",
       "      <td>2</td>\n",
       "      <td>31</td>\n",
       "      <td>471.55</td>\n",
       "      <td>2</td>\n",
       "      <td>5</td>\n",
       "      <td>4</td>\n",
       "      <td>254</td>\n",
       "    </tr>\n",
       "    <tr>\n",
       "      <th>87000088</th>\n",
       "      <td>3</td>\n",
       "      <td>3</td>\n",
       "      <td>189.35</td>\n",
       "      <td>1</td>\n",
       "      <td>2</td>\n",
       "      <td>3</td>\n",
       "      <td>123</td>\n",
       "    </tr>\n",
       "  </tbody>\n",
       "</table>\n",
       "</div>"
      ],
      "text/plain": [
       "          recency  frequency  monetary r_median f_quintile m_quintile  \\\n",
       "EP_CODE                                                                 \n",
       "87000019        3         67    327.35        1          5          4   \n",
       "87000052        2         15    523.47        2          4          4   \n",
       "87000070        1         55   3500.22        2          5          5   \n",
       "87000076        2         31    471.55        2          5          4   \n",
       "87000088        3          3    189.35        1          2          3   \n",
       "\n",
       "         RFM_Score  \n",
       "EP_CODE             \n",
       "87000019       154  \n",
       "87000052       244  \n",
       "87000070       255  \n",
       "87000076       254  \n",
       "87000088       123  "
      ]
     },
     "execution_count": 85,
     "metadata": {},
     "output_type": "execute_result"
    }
   ],
   "source": [
    "rfm['RFM_Score'] = rfm.r_median.astype(str)+ rfm.f_quintile.astype(str) + rfm.m_quintile.astype(str)\n",
    "rfm.head()"
   ]
  },
  {
   "cell_type": "code",
   "execution_count": 86,
   "id": "through-mediterranean",
   "metadata": {},
   "outputs": [
    {
     "name": "stdout",
     "output_type": "stream",
     "text": [
      "<class 'pandas.core.frame.DataFrame'>\n",
      "Int64Index: 138527 entries, 87000019 to 87989974\n",
      "Data columns (total 7 columns):\n",
      " #   Column      Non-Null Count   Dtype   \n",
      "---  ------      --------------   -----   \n",
      " 0   recency     138527 non-null  int64   \n",
      " 1   frequency   138527 non-null  int64   \n",
      " 2   monetary    138527 non-null  float64 \n",
      " 3   r_median    138527 non-null  category\n",
      " 4   f_quintile  138527 non-null  category\n",
      " 5   m_quintile  138527 non-null  category\n",
      " 6   RFM_Score   138527 non-null  object  \n",
      "dtypes: category(3), float64(1), int64(2), object(1)\n",
      "memory usage: 5.7+ MB\n"
     ]
    }
   ],
   "source": [
    "rfm.info()"
   ]
  },
  {
   "cell_type": "markdown",
   "id": "constitutional-charles",
   "metadata": {},
   "source": [
    "# Meilleurs clients"
   ]
  },
  {
   "cell_type": "code",
   "execution_count": 89,
   "id": "friendly-sound",
   "metadata": {},
   "outputs": [
    {
     "data": {
      "text/html": [
       "<div>\n",
       "<style scoped>\n",
       "    .dataframe tbody tr th:only-of-type {\n",
       "        vertical-align: middle;\n",
       "    }\n",
       "\n",
       "    .dataframe tbody tr th {\n",
       "        vertical-align: top;\n",
       "    }\n",
       "\n",
       "    .dataframe thead th {\n",
       "        text-align: right;\n",
       "    }\n",
       "</style>\n",
       "<table border=\"1\" class=\"dataframe\">\n",
       "  <thead>\n",
       "    <tr style=\"text-align: right;\">\n",
       "      <th></th>\n",
       "      <th>recency</th>\n",
       "      <th>frequency</th>\n",
       "      <th>monetary</th>\n",
       "      <th>r_median</th>\n",
       "      <th>f_quintile</th>\n",
       "      <th>m_quintile</th>\n",
       "      <th>RFM_Score</th>\n",
       "    </tr>\n",
       "    <tr>\n",
       "      <th>EP_CODE</th>\n",
       "      <th></th>\n",
       "      <th></th>\n",
       "      <th></th>\n",
       "      <th></th>\n",
       "      <th></th>\n",
       "      <th></th>\n",
       "      <th></th>\n",
       "    </tr>\n",
       "  </thead>\n",
       "  <tbody>\n",
       "    <tr>\n",
       "      <th>87052439</th>\n",
       "      <td>8</td>\n",
       "      <td>182</td>\n",
       "      <td>20771.99</td>\n",
       "      <td>1</td>\n",
       "      <td>5</td>\n",
       "      <td>5</td>\n",
       "      <td>155</td>\n",
       "    </tr>\n",
       "    <tr>\n",
       "      <th>87206917</th>\n",
       "      <td>4</td>\n",
       "      <td>340</td>\n",
       "      <td>12771.07</td>\n",
       "      <td>1</td>\n",
       "      <td>5</td>\n",
       "      <td>5</td>\n",
       "      <td>155</td>\n",
       "    </tr>\n",
       "    <tr>\n",
       "      <th>87364004</th>\n",
       "      <td>4</td>\n",
       "      <td>103</td>\n",
       "      <td>11474.24</td>\n",
       "      <td>1</td>\n",
       "      <td>5</td>\n",
       "      <td>5</td>\n",
       "      <td>155</td>\n",
       "    </tr>\n",
       "    <tr>\n",
       "      <th>87127525</th>\n",
       "      <td>5</td>\n",
       "      <td>290</td>\n",
       "      <td>8537.68</td>\n",
       "      <td>1</td>\n",
       "      <td>5</td>\n",
       "      <td>5</td>\n",
       "      <td>155</td>\n",
       "    </tr>\n",
       "    <tr>\n",
       "      <th>87263311</th>\n",
       "      <td>3</td>\n",
       "      <td>31</td>\n",
       "      <td>8148.99</td>\n",
       "      <td>1</td>\n",
       "      <td>5</td>\n",
       "      <td>5</td>\n",
       "      <td>155</td>\n",
       "    </tr>\n",
       "  </tbody>\n",
       "</table>\n",
       "</div>"
      ],
      "text/plain": [
       "          recency  frequency  monetary r_median f_quintile m_quintile  \\\n",
       "EP_CODE                                                                 \n",
       "87052439        8        182  20771.99        1          5          5   \n",
       "87206917        4        340  12771.07        1          5          5   \n",
       "87364004        4        103  11474.24        1          5          5   \n",
       "87127525        5        290   8537.68        1          5          5   \n",
       "87263311        3         31   8148.99        1          5          5   \n",
       "\n",
       "         RFM_Score  \n",
       "EP_CODE             \n",
       "87052439       155  \n",
       "87206917       155  \n",
       "87364004       155  \n",
       "87127525       155  \n",
       "87263311       155  "
      ]
     },
     "execution_count": 89,
     "metadata": {},
     "output_type": "execute_result"
    }
   ],
   "source": [
    "top_customers = rfm[rfm['RFM_Score'].isin(['155'])].sort_values('monetary', ascending=False)\n",
    "top_customers.head()"
   ]
  },
  {
   "cell_type": "code",
   "execution_count": 90,
   "id": "favorite-sterling",
   "metadata": {},
   "outputs": [
    {
     "name": "stdout",
     "output_type": "stream",
     "text": [
      "<class 'pandas.core.frame.DataFrame'>\n",
      "Int64Index: 464 entries, 87052439 to 87060674\n",
      "Data columns (total 7 columns):\n",
      " #   Column      Non-Null Count  Dtype   \n",
      "---  ------      --------------  -----   \n",
      " 0   recency     464 non-null    int64   \n",
      " 1   frequency   464 non-null    int64   \n",
      " 2   monetary    464 non-null    float64 \n",
      " 3   r_median    464 non-null    category\n",
      " 4   f_quintile  464 non-null    category\n",
      " 5   m_quintile  464 non-null    category\n",
      " 6   RFM_Score   464 non-null    object  \n",
      "dtypes: category(3), float64(1), int64(2), object(1)\n",
      "memory usage: 20.0+ KB\n"
     ]
    }
   ],
   "source": [
    "top_customers.info()"
   ]
  },
  {
   "cell_type": "markdown",
   "id": "pretty-remove",
   "metadata": {},
   "source": [
    "# Clients à risque"
   ]
  },
  {
   "cell_type": "code",
   "execution_count": 91,
   "id": "ignored-casting",
   "metadata": {},
   "outputs": [
    {
     "data": {
      "text/html": [
       "<div>\n",
       "<style scoped>\n",
       "    .dataframe tbody tr th:only-of-type {\n",
       "        vertical-align: middle;\n",
       "    }\n",
       "\n",
       "    .dataframe tbody tr th {\n",
       "        vertical-align: top;\n",
       "    }\n",
       "\n",
       "    .dataframe thead th {\n",
       "        text-align: right;\n",
       "    }\n",
       "</style>\n",
       "<table border=\"1\" class=\"dataframe\">\n",
       "  <thead>\n",
       "    <tr style=\"text-align: right;\">\n",
       "      <th></th>\n",
       "      <th>recency</th>\n",
       "      <th>frequency</th>\n",
       "      <th>monetary</th>\n",
       "      <th>r_median</th>\n",
       "      <th>f_quintile</th>\n",
       "      <th>m_quintile</th>\n",
       "      <th>RFM_Score</th>\n",
       "    </tr>\n",
       "    <tr>\n",
       "      <th>EP_CODE</th>\n",
       "      <th></th>\n",
       "      <th></th>\n",
       "      <th></th>\n",
       "      <th></th>\n",
       "      <th></th>\n",
       "      <th></th>\n",
       "      <th></th>\n",
       "    </tr>\n",
       "  </thead>\n",
       "  <tbody>\n",
       "    <tr>\n",
       "      <th>87254500</th>\n",
       "      <td>9</td>\n",
       "      <td>1</td>\n",
       "      <td>69.36</td>\n",
       "      <td>1</td>\n",
       "      <td>1</td>\n",
       "      <td>1</td>\n",
       "      <td>111</td>\n",
       "    </tr>\n",
       "    <tr>\n",
       "      <th>87288320</th>\n",
       "      <td>7</td>\n",
       "      <td>1</td>\n",
       "      <td>69.35</td>\n",
       "      <td>1</td>\n",
       "      <td>1</td>\n",
       "      <td>1</td>\n",
       "      <td>111</td>\n",
       "    </tr>\n",
       "    <tr>\n",
       "      <th>87761786</th>\n",
       "      <td>3</td>\n",
       "      <td>1</td>\n",
       "      <td>69.35</td>\n",
       "      <td>1</td>\n",
       "      <td>1</td>\n",
       "      <td>1</td>\n",
       "      <td>111</td>\n",
       "    </tr>\n",
       "    <tr>\n",
       "      <th>87361276</th>\n",
       "      <td>6</td>\n",
       "      <td>1</td>\n",
       "      <td>69.34</td>\n",
       "      <td>1</td>\n",
       "      <td>1</td>\n",
       "      <td>1</td>\n",
       "      <td>111</td>\n",
       "    </tr>\n",
       "    <tr>\n",
       "      <th>87962431</th>\n",
       "      <td>11</td>\n",
       "      <td>1</td>\n",
       "      <td>69.34</td>\n",
       "      <td>1</td>\n",
       "      <td>1</td>\n",
       "      <td>1</td>\n",
       "      <td>111</td>\n",
       "    </tr>\n",
       "  </tbody>\n",
       "</table>\n",
       "</div>"
      ],
      "text/plain": [
       "          recency  frequency  monetary r_median f_quintile m_quintile  \\\n",
       "EP_CODE                                                                 \n",
       "87254500        9          1     69.36        1          1          1   \n",
       "87288320        7          1     69.35        1          1          1   \n",
       "87761786        3          1     69.35        1          1          1   \n",
       "87361276        6          1     69.34        1          1          1   \n",
       "87962431       11          1     69.34        1          1          1   \n",
       "\n",
       "         RFM_Score  \n",
       "EP_CODE             \n",
       "87254500       111  \n",
       "87288320       111  \n",
       "87761786       111  \n",
       "87361276       111  \n",
       "87962431       111  "
      ]
     },
     "execution_count": 91,
     "metadata": {},
     "output_type": "execute_result"
    }
   ],
   "source": [
    "risky_customers = rfm[rfm['RFM_Score']=='111'].sort_values('monetary', ascending=False)\n",
    "risky_customers.head()"
   ]
  },
  {
   "cell_type": "code",
   "execution_count": 92,
   "id": "judicial-origin",
   "metadata": {},
   "outputs": [
    {
     "name": "stdout",
     "output_type": "stream",
     "text": [
      "<class 'pandas.core.frame.DataFrame'>\n",
      "Int64Index: 18487 entries, 87254500 to 87147572\n",
      "Data columns (total 7 columns):\n",
      " #   Column      Non-Null Count  Dtype   \n",
      "---  ------      --------------  -----   \n",
      " 0   recency     18487 non-null  int64   \n",
      " 1   frequency   18487 non-null  int64   \n",
      " 2   monetary    18487 non-null  float64 \n",
      " 3   r_median    18487 non-null  category\n",
      " 4   f_quintile  18487 non-null  category\n",
      " 5   m_quintile  18487 non-null  category\n",
      " 6   RFM_Score   18487 non-null  object  \n",
      "dtypes: category(3), float64(1), int64(2), object(1)\n",
      "memory usage: 776.8+ KB\n"
     ]
    }
   ],
   "source": [
    "risky_customers.info()"
   ]
  },
  {
   "cell_type": "code",
   "execution_count": 95,
   "id": "gross-proceeding",
   "metadata": {},
   "outputs": [],
   "source": [
    "rfm.to_csv('./data/rfm.csv',sep=';',encoding='latin-1')"
   ]
  },
  {
   "cell_type": "code",
   "execution_count": 94,
   "id": "preceding-daisy",
   "metadata": {},
   "outputs": [
    {
     "name": "stdout",
     "output_type": "stream",
     "text": [
      "Help on method to_csv in module pandas.core.generic:\n",
      "\n",
      "to_csv(path_or_buf: 'Optional[FilePathOrBuffer]' = None, sep: 'str' = ',', na_rep: 'str' = '', float_format: 'Optional[str]' = None, columns: 'Optional[Sequence[Label]]' = None, header: 'Union[bool_t, List[str]]' = True, index: 'bool_t' = True, index_label: 'Optional[IndexLabel]' = None, mode: 'str' = 'w', encoding: 'Optional[str]' = None, compression: 'CompressionOptions' = 'infer', quoting: 'Optional[int]' = None, quotechar: 'str' = '\"', line_terminator: 'Optional[str]' = None, chunksize: 'Optional[int]' = None, date_format: 'Optional[str]' = None, doublequote: 'bool_t' = True, escapechar: 'Optional[str]' = None, decimal: 'str' = '.', errors: 'str' = 'strict', storage_options: 'StorageOptions' = None) -> 'Optional[str]' method of pandas.core.frame.DataFrame instance\n",
      "    Write object to a comma-separated values (csv) file.\n",
      "    \n",
      "    .. versionchanged:: 0.24.0\n",
      "        The order of arguments for Series was changed.\n",
      "    \n",
      "    Parameters\n",
      "    ----------\n",
      "    path_or_buf : str or file handle, default None\n",
      "        File path or object, if None is provided the result is returned as\n",
      "        a string.  If a non-binary file object is passed, it should be opened\n",
      "        with `newline=''`, disabling universal newlines. If a binary\n",
      "        file object is passed, `mode` might need to contain a `'b'`.\n",
      "    \n",
      "        .. versionchanged:: 0.24.0\n",
      "    \n",
      "           Was previously named \"path\" for Series.\n",
      "    \n",
      "        .. versionchanged:: 1.2.0\n",
      "    \n",
      "           Support for binary file objects was introduced.\n",
      "    \n",
      "    sep : str, default ','\n",
      "        String of length 1. Field delimiter for the output file.\n",
      "    na_rep : str, default ''\n",
      "        Missing data representation.\n",
      "    float_format : str, default None\n",
      "        Format string for floating point numbers.\n",
      "    columns : sequence, optional\n",
      "        Columns to write.\n",
      "    header : bool or list of str, default True\n",
      "        Write out the column names. If a list of strings is given it is\n",
      "        assumed to be aliases for the column names.\n",
      "    \n",
      "        .. versionchanged:: 0.24.0\n",
      "    \n",
      "           Previously defaulted to False for Series.\n",
      "    \n",
      "    index : bool, default True\n",
      "        Write row names (index).\n",
      "    index_label : str or sequence, or False, default None\n",
      "        Column label for index column(s) if desired. If None is given, and\n",
      "        `header` and `index` are True, then the index names are used. A\n",
      "        sequence should be given if the object uses MultiIndex. If\n",
      "        False do not print fields for index names. Use index_label=False\n",
      "        for easier importing in R.\n",
      "    mode : str\n",
      "        Python write mode, default 'w'.\n",
      "    encoding : str, optional\n",
      "        A string representing the encoding to use in the output file,\n",
      "        defaults to 'utf-8'. `encoding` is not supported if `path_or_buf`\n",
      "        is a non-binary file object.\n",
      "    compression : str or dict, default 'infer'\n",
      "        If str, represents compression mode. If dict, value at 'method' is\n",
      "        the compression mode. Compression mode may be any of the following\n",
      "        possible values: {'infer', 'gzip', 'bz2', 'zip', 'xz', None}. If\n",
      "        compression mode is 'infer' and `path_or_buf` is path-like, then\n",
      "        detect compression mode from the following extensions: '.gz',\n",
      "        '.bz2', '.zip' or '.xz'. (otherwise no compression). If dict given\n",
      "        and mode is one of {'zip', 'gzip', 'bz2'}, or inferred as\n",
      "        one of the above, other entries passed as\n",
      "        additional compression options.\n",
      "    \n",
      "        .. versionchanged:: 1.0.0\n",
      "    \n",
      "           May now be a dict with key 'method' as compression mode\n",
      "           and other entries as additional compression options if\n",
      "           compression mode is 'zip'.\n",
      "    \n",
      "        .. versionchanged:: 1.1.0\n",
      "    \n",
      "           Passing compression options as keys in dict is\n",
      "           supported for compression modes 'gzip' and 'bz2'\n",
      "           as well as 'zip'.\n",
      "    \n",
      "        .. versionchanged:: 1.2.0\n",
      "    \n",
      "            Compression is supported for binary file objects.\n",
      "    \n",
      "        .. versionchanged:: 1.2.0\n",
      "    \n",
      "            Previous versions forwarded dict entries for 'gzip' to\n",
      "            `gzip.open` instead of `gzip.GzipFile` which prevented\n",
      "            setting `mtime`.\n",
      "    \n",
      "    quoting : optional constant from csv module\n",
      "        Defaults to csv.QUOTE_MINIMAL. If you have set a `float_format`\n",
      "        then floats are converted to strings and thus csv.QUOTE_NONNUMERIC\n",
      "        will treat them as non-numeric.\n",
      "    quotechar : str, default '\\\"'\n",
      "        String of length 1. Character used to quote fields.\n",
      "    line_terminator : str, optional\n",
      "        The newline character or character sequence to use in the output\n",
      "        file. Defaults to `os.linesep`, which depends on the OS in which\n",
      "        this method is called ('\\n' for linux, '\\r\\n' for Windows, i.e.).\n",
      "    \n",
      "        .. versionchanged:: 0.24.0\n",
      "    chunksize : int or None\n",
      "        Rows to write at a time.\n",
      "    date_format : str, default None\n",
      "        Format string for datetime objects.\n",
      "    doublequote : bool, default True\n",
      "        Control quoting of `quotechar` inside a field.\n",
      "    escapechar : str, default None\n",
      "        String of length 1. Character used to escape `sep` and `quotechar`\n",
      "        when appropriate.\n",
      "    decimal : str, default '.'\n",
      "        Character recognized as decimal separator. E.g. use ',' for\n",
      "        European data.\n",
      "    errors : str, default 'strict'\n",
      "        Specifies how encoding and decoding errors are to be handled.\n",
      "        See the errors argument for :func:`open` for a full list\n",
      "        of options.\n",
      "    \n",
      "        .. versionadded:: 1.1.0\n",
      "    \n",
      "    storage_options : dict, optional\n",
      "        Extra options that make sense for a particular storage connection, e.g.\n",
      "        host, port, username, password, etc., if using a URL that will\n",
      "        be parsed by ``fsspec``, e.g., starting \"s3://\", \"gcs://\". An error\n",
      "        will be raised if providing this argument with a non-fsspec URL.\n",
      "        See the fsspec and backend storage implementation docs for the set of\n",
      "        allowed keys and values.\n",
      "    \n",
      "        .. versionadded:: 1.2.0\n",
      "    \n",
      "    Returns\n",
      "    -------\n",
      "    None or str\n",
      "        If path_or_buf is None, returns the resulting csv format as a\n",
      "        string. Otherwise returns None.\n",
      "    \n",
      "    See Also\n",
      "    --------\n",
      "    read_csv : Load a CSV file into a DataFrame.\n",
      "    to_excel : Write DataFrame to an Excel file.\n",
      "    \n",
      "    Examples\n",
      "    --------\n",
      "    >>> df = pd.DataFrame({'name': ['Raphael', 'Donatello'],\n",
      "    ...                    'mask': ['red', 'purple'],\n",
      "    ...                    'weapon': ['sai', 'bo staff']})\n",
      "    >>> df.to_csv(index=False)\n",
      "    'name,mask,weapon\\nRaphael,red,sai\\nDonatello,purple,bo staff\\n'\n",
      "    \n",
      "    Create 'out.zip' containing 'out.csv'\n",
      "    \n",
      "    >>> compression_opts = dict(method='zip',\n",
      "    ...                         archive_name='out.csv')  # doctest: +SKIP\n",
      "    >>> df.to_csv('out.zip', index=False,\n",
      "    ...           compression=compression_opts)  # doctest: +SKIP\n",
      "\n"
     ]
    }
   ],
   "source": [
    "help(rfm.to_csv)"
   ]
  },
  {
   "cell_type": "code",
   "execution_count": null,
   "id": "conditional-harassment",
   "metadata": {},
   "outputs": [],
   "source": []
  }
 ],
 "metadata": {
  "kernelspec": {
   "display_name": "Python 3",
   "language": "python",
   "name": "python3"
  },
  "language_info": {
   "codemirror_mode": {
    "name": "ipython",
    "version": 3
   },
   "file_extension": ".py",
   "mimetype": "text/x-python",
   "name": "python",
   "nbconvert_exporter": "python",
   "pygments_lexer": "ipython3",
   "version": "3.7.3"
  }
 },
 "nbformat": 4,
 "nbformat_minor": 5
}
