{
 "cells": [
  {
   "cell_type": "markdown",
   "id": "optical-frontier",
   "metadata": {},
   "source": [
    "# Importation des packages \n",
    "\n",
    "Nous chargons les modules necessaires pour notre analyse. "
   ]
  },
  {
   "cell_type": "code",
   "execution_count": 1,
   "id": "found-polish",
   "metadata": {},
   "outputs": [],
   "source": [
    "#Importation des packages\n",
    "\n",
    "import pandas as pd\n",
    "import numpy as np\n",
    "import seaborn as sn\n",
    "import matplotlib.pyplot as plt\n",
    "from kmodes.kmodes import KModes\n",
    "import os "
   ]
  },
  {
   "cell_type": "code",
   "execution_count": 2,
   "id": "advised-aging",
   "metadata": {},
   "outputs": [
    {
     "name": "stdout",
     "output_type": "stream",
     "text": [
      "C:\\Users\\mouss\\OneDrive\\Documents\\TotalEnergies\n"
     ]
    }
   ],
   "source": [
    "# Definir le repertoire de travail \n",
    "pwd = \"C:\\\\Users\\\\mouss\\\\OneDrive\\\\Documents\\\\TotalEnergies\" \n",
    "os.chdir(pwd) \n",
    " \n",
    "# Afficher le nouveau repertoire de travail \n",
    "print(os.getcwd()) "
   ]
  },
  {
   "cell_type": "markdown",
   "id": "worth-cemetery",
   "metadata": {},
   "source": [
    "# Données\n",
    "Nous chargeons le jeu de données des transactions. Cette table contient **1 315 074** donées de transactions (lignes) et **8 facteurs**."
   ]
  },
  {
   "cell_type": "code",
   "execution_count": 3,
   "id": "every-placement",
   "metadata": {},
   "outputs": [],
   "source": [
    "# Importation des données\n",
    "\n",
    "data = pd.read_csv(\"table_transactions.csv\"\n",
    "                    ,sep = \";\"\n",
    "                    , encoding= 'latin-1'\n",
    "                    , decimal=','\n",
    "                  )"
   ]
  },
  {
   "cell_type": "markdown",
   "id": "minor-player",
   "metadata": {},
   "source": [
    "# Echantillon\n",
    "Ci dessous un échantilon de cette table."
   ]
  },
  {
   "cell_type": "code",
   "execution_count": 4,
   "id": "structural-right",
   "metadata": {},
   "outputs": [
    {
     "data": {
      "text/html": [
       "<div>\n",
       "<style scoped>\n",
       "    .dataframe tbody tr th:only-of-type {\n",
       "        vertical-align: middle;\n",
       "    }\n",
       "\n",
       "    .dataframe tbody tr th {\n",
       "        vertical-align: top;\n",
       "    }\n",
       "\n",
       "    .dataframe thead th {\n",
       "        text-align: right;\n",
       "    }\n",
       "</style>\n",
       "<table border=\"1\" class=\"dataframe\">\n",
       "  <thead>\n",
       "    <tr style=\"text-align: right;\">\n",
       "      <th></th>\n",
       "      <th>EP_CODE</th>\n",
       "      <th>TR_PRODUCT_CODE</th>\n",
       "      <th>TR_PRODUCT_TYPE</th>\n",
       "      <th>TR_SUPPORT_CODE</th>\n",
       "      <th>TR_DATE</th>\n",
       "      <th>TR_REVENUE</th>\n",
       "      <th>TR_VOLUME</th>\n",
       "      <th>TR_COUNT</th>\n",
       "    </tr>\n",
       "  </thead>\n",
       "  <tbody>\n",
       "    <tr>\n",
       "      <th>0</th>\n",
       "      <td>87322382</td>\n",
       "      <td>730</td>\n",
       "      <td>Non-Fuel</td>\n",
       "      <td>C100</td>\n",
       "      <td>02/08/21 00:00:00,000000000</td>\n",
       "      <td>132.12</td>\n",
       "      <td>0.00</td>\n",
       "      <td>35</td>\n",
       "    </tr>\n",
       "    <tr>\n",
       "      <th>1</th>\n",
       "      <td>87297430</td>\n",
       "      <td>102</td>\n",
       "      <td>Fuel</td>\n",
       "      <td>C100</td>\n",
       "      <td>03/08/21 00:00:00,000000000</td>\n",
       "      <td>132.54</td>\n",
       "      <td>102.68</td>\n",
       "      <td>4</td>\n",
       "    </tr>\n",
       "    <tr>\n",
       "      <th>2</th>\n",
       "      <td>87128600</td>\n",
       "      <td>222</td>\n",
       "      <td>Fuel</td>\n",
       "      <td>C200</td>\n",
       "      <td>03/08/21 00:00:00,000000000</td>\n",
       "      <td>323.46</td>\n",
       "      <td>227.94</td>\n",
       "      <td>11</td>\n",
       "    </tr>\n",
       "    <tr>\n",
       "      <th>3</th>\n",
       "      <td>87240226</td>\n",
       "      <td>112</td>\n",
       "      <td>Fuel</td>\n",
       "      <td>C700</td>\n",
       "      <td>03/08/21 00:00:00,000000000</td>\n",
       "      <td>75.84</td>\n",
       "      <td>57.27</td>\n",
       "      <td>1</td>\n",
       "    </tr>\n",
       "    <tr>\n",
       "      <th>4</th>\n",
       "      <td>87185411</td>\n",
       "      <td>102</td>\n",
       "      <td>Fuel</td>\n",
       "      <td>C100</td>\n",
       "      <td>03/08/21 00:00:00,000000000</td>\n",
       "      <td>2551.19</td>\n",
       "      <td>2036.94</td>\n",
       "      <td>41</td>\n",
       "    </tr>\n",
       "  </tbody>\n",
       "</table>\n",
       "</div>"
      ],
      "text/plain": [
       "    EP_CODE  TR_PRODUCT_CODE TR_PRODUCT_TYPE TR_SUPPORT_CODE  \\\n",
       "0  87322382              730        Non-Fuel            C100   \n",
       "1  87297430              102            Fuel            C100   \n",
       "2  87128600              222            Fuel            C200   \n",
       "3  87240226              112            Fuel            C700   \n",
       "4  87185411              102            Fuel            C100   \n",
       "\n",
       "                       TR_DATE  TR_REVENUE  TR_VOLUME  TR_COUNT  \n",
       "0  02/08/21 00:00:00,000000000      132.12       0.00        35  \n",
       "1  03/08/21 00:00:00,000000000      132.54     102.68         4  \n",
       "2  03/08/21 00:00:00,000000000      323.46     227.94        11  \n",
       "3  03/08/21 00:00:00,000000000       75.84      57.27         1  \n",
       "4  03/08/21 00:00:00,000000000     2551.19    2036.94        41  "
      ]
     },
     "execution_count": 4,
     "metadata": {},
     "output_type": "execute_result"
    }
   ],
   "source": [
    "data.head()"
   ]
  },
  {
   "cell_type": "markdown",
   "id": "smoking-demonstration",
   "metadata": {},
   "source": [
    "# Nettoyage et preparation de données\n",
    "\n",
    "## Types des variables et conversion\n",
    "\n",
    "Dans cette partie, il s'agit de regarder de plus près le type de chaque variable et decider s'il est pertinent de les convertir vers d'autres types. Pour ce faire, analysons la sortie suivante : "
   ]
  },
  {
   "cell_type": "code",
   "execution_count": 123,
   "id": "close-variation",
   "metadata": {},
   "outputs": [
    {
     "name": "stdout",
     "output_type": "stream",
     "text": [
      "<class 'pandas.core.frame.DataFrame'>\n",
      "RangeIndex: 1315074 entries, 0 to 1315073\n",
      "Data columns (total 8 columns):\n",
      " #   Column           Non-Null Count    Dtype  \n",
      "---  ------           --------------    -----  \n",
      " 0   EP_CODE          1315074 non-null  int64  \n",
      " 1   TR_PRODUCT_CODE  1315074 non-null  int64  \n",
      " 2   TR_PRODUCT_TYPE  1315074 non-null  object \n",
      " 3   TR_SUPPORT_CODE  1313409 non-null  object \n",
      " 4   TR_DATE          1315074 non-null  object \n",
      " 5   TR_REVENUE       1315074 non-null  float64\n",
      " 6   TR_VOLUME        1313053 non-null  float64\n",
      " 7   TR_COUNT         1315074 non-null  int64  \n",
      "dtypes: float64(2), int64(3), object(3)\n",
      "memory usage: 80.3+ MB\n"
     ]
    }
   ],
   "source": [
    "data.info()"
   ]
  },
  {
   "cell_type": "markdown",
   "id": "about-hungarian",
   "metadata": {},
   "source": [
    "On remaruqe que toute les variables sont de type *object* (correspondant à string) sauf EP_CODE, TR_PRODUCT_CODE, TR_COUNT, TR_REVENUE et TR_VOLUME qui sont numeriques. \n",
    "\n",
    "Le type *object* ne pose aucun problème pour les variables qui sont de nature categorielles. C'est le cas pour les variables TR_PRODUCT_TYPE et TR_SUPPORT_CODE. \n",
    "\n",
    "La variable TR_DATE est clairement de nature une date. Il est donc necessaire de convertir cette variable variable au bon format (date time). "
   ]
  },
  {
   "cell_type": "code",
   "execution_count": 124,
   "id": "operational-package",
   "metadata": {},
   "outputs": [
    {
     "name": "stdout",
     "output_type": "stream",
     "text": [
      "<class 'pandas.core.frame.DataFrame'>\n",
      "RangeIndex: 1315074 entries, 0 to 1315073\n",
      "Data columns (total 8 columns):\n",
      " #   Column           Non-Null Count    Dtype  \n",
      "---  ------           --------------    -----  \n",
      " 0   EP_CODE          1315074 non-null  int64  \n",
      " 1   TR_PRODUCT_CODE  1315074 non-null  int64  \n",
      " 2   TR_PRODUCT_TYPE  1315074 non-null  object \n",
      " 3   TR_SUPPORT_CODE  1313409 non-null  object \n",
      " 4   TR_DATE          1315074 non-null  object \n",
      " 5   TR_REVENUE       1315074 non-null  float64\n",
      " 6   TR_VOLUME        1313053 non-null  float64\n",
      " 7   TR_COUNT         1315074 non-null  int64  \n",
      "dtypes: float64(2), int64(3), object(3)\n",
      "memory usage: 80.3+ MB\n"
     ]
    }
   ],
   "source": [
    "data.info()"
   ]
  },
  {
   "cell_type": "code",
   "execution_count": 125,
   "id": "middle-garage",
   "metadata": {},
   "outputs": [
    {
     "name": "stdout",
     "output_type": "stream",
     "text": [
      "<class 'pandas.core.frame.DataFrame'>\n",
      "RangeIndex: 1315074 entries, 0 to 1315073\n",
      "Data columns (total 8 columns):\n",
      " #   Column           Non-Null Count    Dtype         \n",
      "---  ------           --------------    -----         \n",
      " 0   EP_CODE          1315074 non-null  int64         \n",
      " 1   TR_PRODUCT_CODE  1315074 non-null  int64         \n",
      " 2   TR_PRODUCT_TYPE  1315074 non-null  object        \n",
      " 3   TR_SUPPORT_CODE  1313409 non-null  object        \n",
      " 4   TR_DATE          1315074 non-null  datetime64[ns]\n",
      " 5   TR_REVENUE       1315074 non-null  float64       \n",
      " 6   TR_VOLUME        1313053 non-null  float64       \n",
      " 7   TR_COUNT         1315074 non-null  int64         \n",
      "dtypes: datetime64[ns](1), float64(2), int64(3), object(2)\n",
      "memory usage: 80.3+ MB\n"
     ]
    }
   ],
   "source": [
    "data[\"TR_DATE\"] = pd.to_datetime(data[\"TR_DATE\"], dayfirst=True)\n",
    "data.info()"
   ]
  },
  {
   "cell_type": "code",
   "execution_count": 126,
   "id": "neither-thesaurus",
   "metadata": {},
   "outputs": [
    {
     "data": {
      "text/html": [
       "<div>\n",
       "<style scoped>\n",
       "    .dataframe tbody tr th:only-of-type {\n",
       "        vertical-align: middle;\n",
       "    }\n",
       "\n",
       "    .dataframe tbody tr th {\n",
       "        vertical-align: top;\n",
       "    }\n",
       "\n",
       "    .dataframe thead th {\n",
       "        text-align: right;\n",
       "    }\n",
       "</style>\n",
       "<table border=\"1\" class=\"dataframe\">\n",
       "  <thead>\n",
       "    <tr style=\"text-align: right;\">\n",
       "      <th></th>\n",
       "      <th>EP_CODE</th>\n",
       "      <th>TR_PRODUCT_CODE</th>\n",
       "      <th>TR_PRODUCT_TYPE</th>\n",
       "      <th>TR_SUPPORT_CODE</th>\n",
       "      <th>TR_DATE</th>\n",
       "      <th>TR_REVENUE</th>\n",
       "      <th>TR_VOLUME</th>\n",
       "      <th>TR_COUNT</th>\n",
       "    </tr>\n",
       "  </thead>\n",
       "  <tbody>\n",
       "    <tr>\n",
       "      <th>0</th>\n",
       "      <td>87322382</td>\n",
       "      <td>730</td>\n",
       "      <td>Non-Fuel</td>\n",
       "      <td>C100</td>\n",
       "      <td>2021-08-02</td>\n",
       "      <td>132.12</td>\n",
       "      <td>0.00</td>\n",
       "      <td>35</td>\n",
       "    </tr>\n",
       "    <tr>\n",
       "      <th>1</th>\n",
       "      <td>87297430</td>\n",
       "      <td>102</td>\n",
       "      <td>Fuel</td>\n",
       "      <td>C100</td>\n",
       "      <td>2021-08-03</td>\n",
       "      <td>132.54</td>\n",
       "      <td>102.68</td>\n",
       "      <td>4</td>\n",
       "    </tr>\n",
       "    <tr>\n",
       "      <th>2</th>\n",
       "      <td>87128600</td>\n",
       "      <td>222</td>\n",
       "      <td>Fuel</td>\n",
       "      <td>C200</td>\n",
       "      <td>2021-08-03</td>\n",
       "      <td>323.46</td>\n",
       "      <td>227.94</td>\n",
       "      <td>11</td>\n",
       "    </tr>\n",
       "    <tr>\n",
       "      <th>3</th>\n",
       "      <td>87240226</td>\n",
       "      <td>112</td>\n",
       "      <td>Fuel</td>\n",
       "      <td>C700</td>\n",
       "      <td>2021-08-03</td>\n",
       "      <td>75.84</td>\n",
       "      <td>57.27</td>\n",
       "      <td>1</td>\n",
       "    </tr>\n",
       "    <tr>\n",
       "      <th>4</th>\n",
       "      <td>87185411</td>\n",
       "      <td>102</td>\n",
       "      <td>Fuel</td>\n",
       "      <td>C100</td>\n",
       "      <td>2021-08-03</td>\n",
       "      <td>2551.19</td>\n",
       "      <td>2036.94</td>\n",
       "      <td>41</td>\n",
       "    </tr>\n",
       "  </tbody>\n",
       "</table>\n",
       "</div>"
      ],
      "text/plain": [
       "    EP_CODE  TR_PRODUCT_CODE TR_PRODUCT_TYPE TR_SUPPORT_CODE    TR_DATE  \\\n",
       "0  87322382              730        Non-Fuel            C100 2021-08-02   \n",
       "1  87297430              102            Fuel            C100 2021-08-03   \n",
       "2  87128600              222            Fuel            C200 2021-08-03   \n",
       "3  87240226              112            Fuel            C700 2021-08-03   \n",
       "4  87185411              102            Fuel            C100 2021-08-03   \n",
       "\n",
       "   TR_REVENUE  TR_VOLUME  TR_COUNT  \n",
       "0      132.12       0.00        35  \n",
       "1      132.54     102.68         4  \n",
       "2      323.46     227.94        11  \n",
       "3       75.84      57.27         1  \n",
       "4     2551.19    2036.94        41  "
      ]
     },
     "execution_count": 126,
     "metadata": {},
     "output_type": "execute_result"
    }
   ],
   "source": [
    "data.head()"
   ]
  },
  {
   "cell_type": "markdown",
   "id": "portuguese-filing",
   "metadata": {},
   "source": [
    "## Nombre de modalités par variables"
   ]
  },
  {
   "cell_type": "code",
   "execution_count": 127,
   "id": "outside-collins",
   "metadata": {},
   "outputs": [
    {
     "data": {
      "text/html": [
       "<div>\n",
       "<style scoped>\n",
       "    .dataframe tbody tr th:only-of-type {\n",
       "        vertical-align: middle;\n",
       "    }\n",
       "\n",
       "    .dataframe tbody tr th {\n",
       "        vertical-align: top;\n",
       "    }\n",
       "\n",
       "    .dataframe thead th {\n",
       "        text-align: right;\n",
       "    }\n",
       "</style>\n",
       "<table border=\"1\" class=\"dataframe\">\n",
       "  <thead>\n",
       "    <tr style=\"text-align: right;\">\n",
       "      <th></th>\n",
       "      <th>Nom_variables</th>\n",
       "      <th>Nombre_valeurs_uniques</th>\n",
       "    </tr>\n",
       "  </thead>\n",
       "  <tbody>\n",
       "    <tr>\n",
       "      <th>2</th>\n",
       "      <td>TR_PRODUCT_TYPE</td>\n",
       "      <td>2</td>\n",
       "    </tr>\n",
       "    <tr>\n",
       "      <th>4</th>\n",
       "      <td>TR_DATE</td>\n",
       "      <td>12</td>\n",
       "    </tr>\n",
       "    <tr>\n",
       "      <th>3</th>\n",
       "      <td>TR_SUPPORT_CODE</td>\n",
       "      <td>38</td>\n",
       "    </tr>\n",
       "    <tr>\n",
       "      <th>1</th>\n",
       "      <td>TR_PRODUCT_CODE</td>\n",
       "      <td>110</td>\n",
       "    </tr>\n",
       "    <tr>\n",
       "      <th>7</th>\n",
       "      <td>TR_COUNT</td>\n",
       "      <td>582</td>\n",
       "    </tr>\n",
       "    <tr>\n",
       "      <th>6</th>\n",
       "      <td>TR_VOLUME</td>\n",
       "      <td>71066</td>\n",
       "    </tr>\n",
       "    <tr>\n",
       "      <th>5</th>\n",
       "      <td>TR_REVENUE</td>\n",
       "      <td>82982</td>\n",
       "    </tr>\n",
       "    <tr>\n",
       "      <th>0</th>\n",
       "      <td>EP_CODE</td>\n",
       "      <td>138551</td>\n",
       "    </tr>\n",
       "  </tbody>\n",
       "</table>\n",
       "</div>"
      ],
      "text/plain": [
       "     Nom_variables  Nombre_valeurs_uniques\n",
       "2  TR_PRODUCT_TYPE                       2\n",
       "4          TR_DATE                      12\n",
       "3  TR_SUPPORT_CODE                      38\n",
       "1  TR_PRODUCT_CODE                     110\n",
       "7         TR_COUNT                     582\n",
       "6        TR_VOLUME                   71066\n",
       "5       TR_REVENUE                   82982\n",
       "0          EP_CODE                  138551"
      ]
     },
     "execution_count": 127,
     "metadata": {},
     "output_type": "execute_result"
    }
   ],
   "source": [
    "# Connaitre le nombre de valeurs uniques pour toutes les colonnes dans le but de savoir quelles variables convertir en categorielle\n",
    "\n",
    "unique_counts = pd.DataFrame.from_records([(col, data[col].nunique()) for col in data.columns],\n",
    "                          columns=['Nom_variables', 'Nombre_valeurs_uniques']).sort_values(by=['Nombre_valeurs_uniques'])\n",
    "\n",
    "unique_counts"
   ]
  },
  {
   "cell_type": "markdown",
   "id": "medium-neighborhood",
   "metadata": {},
   "source": [
    "## Données manquantes\n",
    "\n",
    "Dans cette table, il y'a très peu de données manquantes. La variable qui a le plus de données manquantes est *TR_VOLUME* avec 2021 de NA soit 2%. "
   ]
  },
  {
   "cell_type": "code",
   "execution_count": 128,
   "id": "aboriginal-surveillance",
   "metadata": {},
   "outputs": [
    {
     "data": {
      "text/html": [
       "<div>\n",
       "<style scoped>\n",
       "    .dataframe tbody tr th:only-of-type {\n",
       "        vertical-align: middle;\n",
       "    }\n",
       "\n",
       "    .dataframe tbody tr th {\n",
       "        vertical-align: top;\n",
       "    }\n",
       "\n",
       "    .dataframe thead th {\n",
       "        text-align: right;\n",
       "    }\n",
       "</style>\n",
       "<table border=\"1\" class=\"dataframe\">\n",
       "  <thead>\n",
       "    <tr style=\"text-align: right;\">\n",
       "      <th></th>\n",
       "      <th>Nom_variables</th>\n",
       "      <th>Nombre_valeurs_manquantes</th>\n",
       "      <th>%NA</th>\n",
       "    </tr>\n",
       "  </thead>\n",
       "  <tbody>\n",
       "    <tr>\n",
       "      <th>6</th>\n",
       "      <td>TR_VOLUME</td>\n",
       "      <td>2021</td>\n",
       "      <td>0.002</td>\n",
       "    </tr>\n",
       "    <tr>\n",
       "      <th>3</th>\n",
       "      <td>TR_SUPPORT_CODE</td>\n",
       "      <td>1665</td>\n",
       "      <td>0.001</td>\n",
       "    </tr>\n",
       "    <tr>\n",
       "      <th>0</th>\n",
       "      <td>EP_CODE</td>\n",
       "      <td>0</td>\n",
       "      <td>0.000</td>\n",
       "    </tr>\n",
       "    <tr>\n",
       "      <th>1</th>\n",
       "      <td>TR_PRODUCT_CODE</td>\n",
       "      <td>0</td>\n",
       "      <td>0.000</td>\n",
       "    </tr>\n",
       "    <tr>\n",
       "      <th>2</th>\n",
       "      <td>TR_PRODUCT_TYPE</td>\n",
       "      <td>0</td>\n",
       "      <td>0.000</td>\n",
       "    </tr>\n",
       "    <tr>\n",
       "      <th>4</th>\n",
       "      <td>TR_DATE</td>\n",
       "      <td>0</td>\n",
       "      <td>0.000</td>\n",
       "    </tr>\n",
       "    <tr>\n",
       "      <th>5</th>\n",
       "      <td>TR_REVENUE</td>\n",
       "      <td>0</td>\n",
       "      <td>0.000</td>\n",
       "    </tr>\n",
       "    <tr>\n",
       "      <th>7</th>\n",
       "      <td>TR_COUNT</td>\n",
       "      <td>0</td>\n",
       "      <td>0.000</td>\n",
       "    </tr>\n",
       "  </tbody>\n",
       "</table>\n",
       "</div>"
      ],
      "text/plain": [
       "     Nom_variables  Nombre_valeurs_manquantes    %NA\n",
       "6        TR_VOLUME                       2021  0.002\n",
       "3  TR_SUPPORT_CODE                       1665  0.001\n",
       "0          EP_CODE                          0  0.000\n",
       "1  TR_PRODUCT_CODE                          0  0.000\n",
       "2  TR_PRODUCT_TYPE                          0  0.000\n",
       "4          TR_DATE                          0  0.000\n",
       "5       TR_REVENUE                          0  0.000\n",
       "7         TR_COUNT                          0  0.000"
      ]
     },
     "execution_count": 128,
     "metadata": {},
     "output_type": "execute_result"
    }
   ],
   "source": [
    "# Données manquantes\n",
    "\n",
    "# Connaitre le nombre de valeurs uniques pour toutes les colonnes dans le but de savoir quelles variables convertir en categorielle\n",
    "\n",
    "NA_counts = pd.DataFrame.from_records([(col\n",
    "                                        , data[col].isna().sum()\n",
    "                                       , round((data[col].isna().sum())/(data[col].size),3)) for col in data.columns],\n",
    "                          columns=['Nom_variables', 'Nombre_valeurs_manquantes',\"%NA\"]).sort_values(by=['Nombre_valeurs_manquantes'], ascending=False)\n",
    "\n",
    "NA_counts"
   ]
  },
  {
   "cell_type": "code",
   "execution_count": 129,
   "id": "prescribed-corrections",
   "metadata": {},
   "outputs": [],
   "source": [
    "#data = data.copy().dropna()"
   ]
  },
  {
   "cell_type": "code",
   "execution_count": 130,
   "id": "center-excerpt",
   "metadata": {},
   "outputs": [],
   "source": [
    "#data.info()"
   ]
  },
  {
   "cell_type": "markdown",
   "id": "instant-growth",
   "metadata": {},
   "source": [
    "# Description sommaire des données qualitatives\n"
   ]
  },
  {
   "cell_type": "markdown",
   "id": "adapted-lover",
   "metadata": {},
   "source": [
    "## Données quantitatives\n",
    "\n",
    "Le tableau suivant donne une description sommaire des variables numeriques de notre jeu de données. Les variables ineressantes sont TR_REVENUE, TR_VOLUME, TR_COUNT. \n",
    "\n",
    "\n",
    "On remarque qu'il y'a des transactions dont le revenu est negatif. Ce qui ne fait pas sens. Nous decidons donc d'ignorer ces transactions. "
   ]
  },
  {
   "cell_type": "code",
   "execution_count": 131,
   "id": "impaired-majority",
   "metadata": {},
   "outputs": [
    {
     "data": {
      "text/html": [
       "<div>\n",
       "<style scoped>\n",
       "    .dataframe tbody tr th:only-of-type {\n",
       "        vertical-align: middle;\n",
       "    }\n",
       "\n",
       "    .dataframe tbody tr th {\n",
       "        vertical-align: top;\n",
       "    }\n",
       "\n",
       "    .dataframe thead th {\n",
       "        text-align: right;\n",
       "    }\n",
       "</style>\n",
       "<table border=\"1\" class=\"dataframe\">\n",
       "  <thead>\n",
       "    <tr style=\"text-align: right;\">\n",
       "      <th></th>\n",
       "      <th>EP_CODE</th>\n",
       "      <th>TR_PRODUCT_CODE</th>\n",
       "      <th>TR_DATE</th>\n",
       "      <th>TR_REVENUE</th>\n",
       "      <th>TR_VOLUME</th>\n",
       "      <th>TR_COUNT</th>\n",
       "    </tr>\n",
       "  </thead>\n",
       "  <tbody>\n",
       "    <tr>\n",
       "      <th>count</th>\n",
       "      <td>1.315074e+06</td>\n",
       "      <td>1.315074e+06</td>\n",
       "      <td>1315074</td>\n",
       "      <td>1.315074e+06</td>\n",
       "      <td>1.313053e+06</td>\n",
       "      <td>1.315074e+06</td>\n",
       "    </tr>\n",
       "    <tr>\n",
       "      <th>mean</th>\n",
       "      <td>8.726803e+07</td>\n",
       "      <td>3.399874e+02</td>\n",
       "      <td>2021-08-07 02:16:06.344402944</td>\n",
       "      <td>1.186657e+02</td>\n",
       "      <td>8.505574e+01</td>\n",
       "      <td>3.414823e+00</td>\n",
       "    </tr>\n",
       "    <tr>\n",
       "      <th>min</th>\n",
       "      <td>8.700002e+07</td>\n",
       "      <td>1.020000e+02</td>\n",
       "      <td>2021-08-02 00:00:00</td>\n",
       "      <td>-1.016300e+02</td>\n",
       "      <td>0.000000e+00</td>\n",
       "      <td>1.000000e+00</td>\n",
       "    </tr>\n",
       "    <tr>\n",
       "      <th>25%</th>\n",
       "      <td>8.712562e+07</td>\n",
       "      <td>1.020000e+02</td>\n",
       "      <td>2021-08-04 00:00:00</td>\n",
       "      <td>1.618000e+01</td>\n",
       "      <td>0.000000e+00</td>\n",
       "      <td>1.000000e+00</td>\n",
       "    </tr>\n",
       "    <tr>\n",
       "      <th>50%</th>\n",
       "      <td>8.724119e+07</td>\n",
       "      <td>2.010000e+02</td>\n",
       "      <td>2021-08-06 00:00:00</td>\n",
       "      <td>5.000000e+01</td>\n",
       "      <td>3.423000e+01</td>\n",
       "      <td>1.000000e+00</td>\n",
       "    </tr>\n",
       "    <tr>\n",
       "      <th>75%</th>\n",
       "      <td>8.732803e+07</td>\n",
       "      <td>7.300000e+02</td>\n",
       "      <td>2021-08-10 00:00:00</td>\n",
       "      <td>8.761000e+01</td>\n",
       "      <td>6.425000e+01</td>\n",
       "      <td>2.000000e+00</td>\n",
       "    </tr>\n",
       "    <tr>\n",
       "      <th>max</th>\n",
       "      <td>8.798997e+07</td>\n",
       "      <td>9.144000e+03</td>\n",
       "      <td>2021-08-13 00:00:00</td>\n",
       "      <td>5.122352e+05</td>\n",
       "      <td>3.957747e+05</td>\n",
       "      <td>3.688000e+03</td>\n",
       "    </tr>\n",
       "    <tr>\n",
       "      <th>std</th>\n",
       "      <td>2.027793e+05</td>\n",
       "      <td>4.003580e+02</td>\n",
       "      <td>NaN</td>\n",
       "      <td>1.440322e+03</td>\n",
       "      <td>1.124530e+03</td>\n",
       "      <td>1.713332e+01</td>\n",
       "    </tr>\n",
       "  </tbody>\n",
       "</table>\n",
       "</div>"
      ],
      "text/plain": [
       "            EP_CODE  TR_PRODUCT_CODE                        TR_DATE  \\\n",
       "count  1.315074e+06     1.315074e+06                        1315074   \n",
       "mean   8.726803e+07     3.399874e+02  2021-08-07 02:16:06.344402944   \n",
       "min    8.700002e+07     1.020000e+02            2021-08-02 00:00:00   \n",
       "25%    8.712562e+07     1.020000e+02            2021-08-04 00:00:00   \n",
       "50%    8.724119e+07     2.010000e+02            2021-08-06 00:00:00   \n",
       "75%    8.732803e+07     7.300000e+02            2021-08-10 00:00:00   \n",
       "max    8.798997e+07     9.144000e+03            2021-08-13 00:00:00   \n",
       "std    2.027793e+05     4.003580e+02                            NaN   \n",
       "\n",
       "         TR_REVENUE     TR_VOLUME      TR_COUNT  \n",
       "count  1.315074e+06  1.313053e+06  1.315074e+06  \n",
       "mean   1.186657e+02  8.505574e+01  3.414823e+00  \n",
       "min   -1.016300e+02  0.000000e+00  1.000000e+00  \n",
       "25%    1.618000e+01  0.000000e+00  1.000000e+00  \n",
       "50%    5.000000e+01  3.423000e+01  1.000000e+00  \n",
       "75%    8.761000e+01  6.425000e+01  2.000000e+00  \n",
       "max    5.122352e+05  3.957747e+05  3.688000e+03  \n",
       "std    1.440322e+03  1.124530e+03  1.713332e+01  "
      ]
     },
     "execution_count": 131,
     "metadata": {},
     "output_type": "execute_result"
    }
   ],
   "source": [
    "data.describe(datetime_is_numeric=True)"
   ]
  },
  {
   "cell_type": "markdown",
   "id": "strategic-irish",
   "metadata": {},
   "source": [
    "## Ignorer les transactions aberantes (TR_REVUE<0)"
   ]
  },
  {
   "cell_type": "code",
   "execution_count": 132,
   "id": "sized-monaco",
   "metadata": {},
   "outputs": [],
   "source": [
    "data = data[(data['TR_REVENUE']>0)]"
   ]
  },
  {
   "cell_type": "code",
   "execution_count": 144,
   "id": "finished-niger",
   "metadata": {},
   "outputs": [
    {
     "data": {
      "text/html": [
       "<div>\n",
       "<style scoped>\n",
       "    .dataframe tbody tr th:only-of-type {\n",
       "        vertical-align: middle;\n",
       "    }\n",
       "\n",
       "    .dataframe tbody tr th {\n",
       "        vertical-align: top;\n",
       "    }\n",
       "\n",
       "    .dataframe thead th {\n",
       "        text-align: right;\n",
       "    }\n",
       "</style>\n",
       "<table border=\"1\" class=\"dataframe\">\n",
       "  <thead>\n",
       "    <tr style=\"text-align: right;\">\n",
       "      <th></th>\n",
       "      <th>EP_CODE</th>\n",
       "      <th>TR_PRODUCT_CODE</th>\n",
       "      <th>TR_DATE</th>\n",
       "      <th>TR_REVENUE</th>\n",
       "      <th>TR_VOLUME</th>\n",
       "      <th>TR_COUNT</th>\n",
       "    </tr>\n",
       "  </thead>\n",
       "  <tbody>\n",
       "    <tr>\n",
       "      <th>count</th>\n",
       "      <td>1.314498e+06</td>\n",
       "      <td>1.314498e+06</td>\n",
       "      <td>1314498</td>\n",
       "      <td>1.314498e+06</td>\n",
       "      <td>1.312477e+06</td>\n",
       "      <td>1.314498e+06</td>\n",
       "    </tr>\n",
       "    <tr>\n",
       "      <th>mean</th>\n",
       "      <td>8.726802e+07</td>\n",
       "      <td>3.397647e+02</td>\n",
       "      <td>2021-08-07 02:16:53.698004992</td>\n",
       "      <td>1.187222e+02</td>\n",
       "      <td>8.509307e+01</td>\n",
       "      <td>3.415479e+00</td>\n",
       "    </tr>\n",
       "    <tr>\n",
       "      <th>min</th>\n",
       "      <td>8.700002e+07</td>\n",
       "      <td>1.020000e+02</td>\n",
       "      <td>2021-08-02 00:00:00</td>\n",
       "      <td>1.000000e-02</td>\n",
       "      <td>0.000000e+00</td>\n",
       "      <td>1.000000e+00</td>\n",
       "    </tr>\n",
       "    <tr>\n",
       "      <th>25%</th>\n",
       "      <td>8.712564e+07</td>\n",
       "      <td>1.020000e+02</td>\n",
       "      <td>2021-08-04 00:00:00</td>\n",
       "      <td>1.625000e+01</td>\n",
       "      <td>0.000000e+00</td>\n",
       "      <td>1.000000e+00</td>\n",
       "    </tr>\n",
       "    <tr>\n",
       "      <th>50%</th>\n",
       "      <td>8.724119e+07</td>\n",
       "      <td>2.010000e+02</td>\n",
       "      <td>2021-08-06 00:00:00</td>\n",
       "      <td>5.000000e+01</td>\n",
       "      <td>3.426000e+01</td>\n",
       "      <td>1.000000e+00</td>\n",
       "    </tr>\n",
       "    <tr>\n",
       "      <th>75%</th>\n",
       "      <td>8.732803e+07</td>\n",
       "      <td>7.300000e+02</td>\n",
       "      <td>2021-08-10 00:00:00</td>\n",
       "      <td>8.764000e+01</td>\n",
       "      <td>6.427000e+01</td>\n",
       "      <td>2.000000e+00</td>\n",
       "    </tr>\n",
       "    <tr>\n",
       "      <th>max</th>\n",
       "      <td>8.798997e+07</td>\n",
       "      <td>9.144000e+03</td>\n",
       "      <td>2021-08-13 00:00:00</td>\n",
       "      <td>5.122352e+05</td>\n",
       "      <td>3.957747e+05</td>\n",
       "      <td>3.688000e+03</td>\n",
       "    </tr>\n",
       "    <tr>\n",
       "      <th>std</th>\n",
       "      <td>2.027546e+05</td>\n",
       "      <td>4.002315e+02</td>\n",
       "      <td>NaN</td>\n",
       "      <td>1.440635e+03</td>\n",
       "      <td>1.124775e+03</td>\n",
       "      <td>1.713700e+01</td>\n",
       "    </tr>\n",
       "  </tbody>\n",
       "</table>\n",
       "</div>"
      ],
      "text/plain": [
       "            EP_CODE  TR_PRODUCT_CODE                        TR_DATE  \\\n",
       "count  1.314498e+06     1.314498e+06                        1314498   \n",
       "mean   8.726802e+07     3.397647e+02  2021-08-07 02:16:53.698004992   \n",
       "min    8.700002e+07     1.020000e+02            2021-08-02 00:00:00   \n",
       "25%    8.712564e+07     1.020000e+02            2021-08-04 00:00:00   \n",
       "50%    8.724119e+07     2.010000e+02            2021-08-06 00:00:00   \n",
       "75%    8.732803e+07     7.300000e+02            2021-08-10 00:00:00   \n",
       "max    8.798997e+07     9.144000e+03            2021-08-13 00:00:00   \n",
       "std    2.027546e+05     4.002315e+02                            NaN   \n",
       "\n",
       "         TR_REVENUE     TR_VOLUME      TR_COUNT  \n",
       "count  1.314498e+06  1.312477e+06  1.314498e+06  \n",
       "mean   1.187222e+02  8.509307e+01  3.415479e+00  \n",
       "min    1.000000e-02  0.000000e+00  1.000000e+00  \n",
       "25%    1.625000e+01  0.000000e+00  1.000000e+00  \n",
       "50%    5.000000e+01  3.426000e+01  1.000000e+00  \n",
       "75%    8.764000e+01  6.427000e+01  2.000000e+00  \n",
       "max    5.122352e+05  3.957747e+05  3.688000e+03  \n",
       "std    1.440635e+03  1.124775e+03  1.713700e+01  "
      ]
     },
     "execution_count": 144,
     "metadata": {},
     "output_type": "execute_result"
    }
   ],
   "source": [
    "data.describe(datetime_is_numeric=True)"
   ]
  },
  {
   "cell_type": "markdown",
   "id": "polished-variety",
   "metadata": {},
   "source": [
    "* En moyenne les clients depensent **118 €** par transaction\n",
    "* le volume moyen de fuel achetés est de **85 L**\n",
    "* Le nombre de transactions moyen par client est de **3**.\n",
    "* Les transactions ont été effectuées sur **12 jours** entre le **02/08/2021** et le **13/08/2021**"
   ]
  },
  {
   "cell_type": "markdown",
   "id": "smaller-lesson",
   "metadata": {},
   "source": [
    "# Données qualitatives"
   ]
  },
  {
   "cell_type": "markdown",
   "id": "printable-savannah",
   "metadata": {},
   "source": [
    "Le tableau ci dessous decrit brievement chaque variable qualitative. Il s'agit des variables TR_PRODUCT_TYPE, TR_SUPPORT_CODE.\n",
    "\n",
    "Il y'a dans ce tableau pour chaque variable :\n",
    "* count : le nombre d'observations (exclu les données manquantes :NAN)\n",
    "* unique : le nombre de valeurs (modalités) discincts\n",
    "* top : la valeur la plus fréquente\n",
    "* freq : la frequence de la valeur la plus frequente (nombre brute=> comptage)\n",
    "* freq_p : la proportion de la valeur la plus frequente ( en %)\n",
    "\n",
    "Ainsi, on peut remarquer que parmi les deux types de produits vendus (fuel et non fuel) le plus vendu est le **fuel** (>63%)."
   ]
  },
  {
   "cell_type": "code",
   "execution_count": 146,
   "id": "miniature-journalist",
   "metadata": {},
   "outputs": [],
   "source": [
    "stats = data.select_dtypes(include='object').describe()\n",
    "#stats"
   ]
  },
  {
   "cell_type": "code",
   "execution_count": 147,
   "id": "split-lewis",
   "metadata": {},
   "outputs": [
    {
     "data": {
      "text/html": [
       "<div>\n",
       "<style scoped>\n",
       "    .dataframe tbody tr th:only-of-type {\n",
       "        vertical-align: middle;\n",
       "    }\n",
       "\n",
       "    .dataframe tbody tr th {\n",
       "        vertical-align: top;\n",
       "    }\n",
       "\n",
       "    .dataframe thead th {\n",
       "        text-align: right;\n",
       "    }\n",
       "</style>\n",
       "<table border=\"1\" class=\"dataframe\">\n",
       "  <thead>\n",
       "    <tr style=\"text-align: right;\">\n",
       "      <th></th>\n",
       "      <th>TR_PRODUCT_TYPE</th>\n",
       "      <th>TR_SUPPORT_CODE</th>\n",
       "    </tr>\n",
       "  </thead>\n",
       "  <tbody>\n",
       "    <tr>\n",
       "      <th>count</th>\n",
       "      <td>1314498</td>\n",
       "      <td>1312833</td>\n",
       "    </tr>\n",
       "    <tr>\n",
       "      <th>unique</th>\n",
       "      <td>2</td>\n",
       "      <td>38</td>\n",
       "    </tr>\n",
       "    <tr>\n",
       "      <th>top</th>\n",
       "      <td>Fuel</td>\n",
       "      <td>C700</td>\n",
       "    </tr>\n",
       "    <tr>\n",
       "      <th>freq</th>\n",
       "      <td>827380</td>\n",
       "      <td>563114</td>\n",
       "    </tr>\n",
       "    <tr>\n",
       "      <th>freq_p</th>\n",
       "      <td>0.629</td>\n",
       "      <td>0.429</td>\n",
       "    </tr>\n",
       "  </tbody>\n",
       "</table>\n",
       "</div>"
      ],
      "text/plain": [
       "       TR_PRODUCT_TYPE TR_SUPPORT_CODE\n",
       "count          1314498         1312833\n",
       "unique               2              38\n",
       "top               Fuel            C700\n",
       "freq            827380          563114\n",
       "freq_p           0.629           0.429"
      ]
     },
     "execution_count": 147,
     "metadata": {},
     "output_type": "execute_result"
    }
   ],
   "source": [
    "# Ajout de la frequence en %\n",
    "\n",
    "stats.loc[\"freq_p\"] = pd.Series(stats.loc[\"freq\"]/stats.loc[\"count\"]).apply(lambda value : round(value,3)) # frequence en pourcentage\n",
    "#stats = pd.DataFrame(np.insert(stats.values, stats.shape[0], freq_p, axis=0))\n",
    "stats"
   ]
  },
  {
   "cell_type": "code",
   "execution_count": 148,
   "id": "bright-designation",
   "metadata": {},
   "outputs": [],
   "source": [
    "#data.TR_PRODUCT_TYPE.value_counts()"
   ]
  },
  {
   "cell_type": "markdown",
   "id": "injured-group",
   "metadata": {},
   "source": [
    "# Autres analyses"
   ]
  },
  {
   "cell_type": "markdown",
   "id": "reflected-eleven",
   "metadata": {},
   "source": [
    "## Quels sont les clients qui ont fait entré plus d'argent?\n",
    "\n",
    "* 138 405 clients ont effectués une transactions.\n",
    "* Le client ayant le code **87205353** a fait entré **5 243 186.22 €**. \n",
    "* Trois clients ont effectués des transactions dont la facture est au déla de 1 000 000 €. Il s'agit des clients : **87205353, 87989900, 87989971**.   \n",
    "* Il existe des clients dont le montant des transactions sont negatifs (à interpreter)."
   ]
  },
  {
   "cell_type": "code",
   "execution_count": 149,
   "id": "collective-combine",
   "metadata": {},
   "outputs": [
    {
     "data": {
      "text/plain": [
       "EP_CODE\n",
       "87205353    5243186.22\n",
       "87989900    2095012.87\n",
       "87989971    1252480.78\n",
       "87336598     502174.32\n",
       "87742475     484694.36\n",
       "               ...    \n",
       "87957527          0.33\n",
       "87963726          0.33\n",
       "87335794          0.31\n",
       "87323381          0.16\n",
       "87147572          0.13\n",
       "Name: TR_REVENUE, Length: 138527, dtype: float64"
      ]
     },
     "execution_count": 149,
     "metadata": {},
     "output_type": "execute_result"
    }
   ],
   "source": [
    "tr_amount_per_costumer = data.groupby(\"EP_CODE\")[\"TR_REVENUE\"].sum().sort_values(ascending=False)\n",
    "tr_amount_per_costumer"
   ]
  },
  {
   "cell_type": "code",
   "execution_count": 150,
   "id": "passing-table",
   "metadata": {},
   "outputs": [
    {
     "data": {
      "text/plain": [
       "EP_CODE\n",
       "87205353    5243186.22\n",
       "87989900    2095012.87\n",
       "87989971    1252480.78\n",
       "Name: TR_REVENUE, dtype: float64"
      ]
     },
     "execution_count": 150,
     "metadata": {},
     "output_type": "execute_result"
    }
   ],
   "source": [
    "# Top clients (>1 000 000)\n",
    "tr_amount_per_costumer[tr_amount_per_costumer.values>1000000]"
   ]
  },
  {
   "cell_type": "markdown",
   "id": "ancient-officer",
   "metadata": {},
   "source": [
    "## Quel client a effectué plus de transactions?\n",
    "\n",
    "* Sans grande surprise, le client qui fait entré plus d'argent est celui qui a effectué le plus de transactions. Pour rappel, il s'agit du client **87205353**. \n",
    "* Cependant le client **87989971** est le top 3 qui fait entré le plus d'argent mais il n'est pas parmi le top 5 des clients qui ont effectué le plus de transactions. Il est certainement parmi les clients qui font des gros achats par transactions. Cette dernière hypothèse sera verifié ci dessous."
   ]
  },
  {
   "cell_type": "code",
   "execution_count": 151,
   "id": "patent-california",
   "metadata": {},
   "outputs": [
    {
     "data": {
      "text/plain": [
       "EP_CODE\n",
       "87205353    49945\n",
       "87989900    32645\n",
       "87336598    23874\n",
       "87742475    22434\n",
       "87256996    15567\n",
       "            ...  \n",
       "87246024        1\n",
       "87326730        1\n",
       "87246034        1\n",
       "87246042        1\n",
       "87347374        1\n",
       "Name: TR_COUNT, Length: 138527, dtype: int64"
      ]
     },
     "execution_count": 151,
     "metadata": {},
     "output_type": "execute_result"
    }
   ],
   "source": [
    "tr_count_per_customer = data.groupby(\"EP_CODE\")[\"TR_COUNT\"].sum().sort_values(ascending = False)\n",
    "tr_count_per_customer"
   ]
  },
  {
   "cell_type": "markdown",
   "id": "breeding-shopping",
   "metadata": {},
   "source": [
    "## Quelle est la moyenne du montant des achats par clients?\n",
    "\n",
    "* Le client qui paye gros par transaction est le **87205353** avec une moyenne de **37 720 €**\n",
    "* L'hypothèse fait precedemment se confirme, c'est à dire que le client **87989971**, faisant parti des tops clients qui font entré plus d'argent, est le deuxième a payé gros par transactions (> 10 700 €)."
   ]
  },
  {
   "cell_type": "code",
   "execution_count": 152,
   "id": "starting-anxiety",
   "metadata": {},
   "outputs": [
    {
     "data": {
      "text/plain": [
       "EP_CODE\n",
       "87205353    37720.764173\n",
       "87989971    10704.963932\n",
       "87183489     9016.984000\n",
       "87989900     8692.999461\n",
       "87730167     3507.584762\n",
       "                ...     \n",
       "87957527        0.330000\n",
       "87963726        0.330000\n",
       "87335794        0.310000\n",
       "87323381        0.160000\n",
       "87147572        0.130000\n",
       "Name: TR_REVENUE, Length: 138527, dtype: float64"
      ]
     },
     "execution_count": 152,
     "metadata": {},
     "output_type": "execute_result"
    }
   ],
   "source": [
    "data.groupby(\"EP_CODE\")[\"TR_REVENUE\"].mean().sort_values(ascending = False)"
   ]
  },
  {
   "cell_type": "markdown",
   "id": "changed-cotton",
   "metadata": {},
   "source": [
    "## Quel type de produits a fait plus de recttes?"
   ]
  },
  {
   "cell_type": "code",
   "execution_count": 153,
   "id": "confused-career",
   "metadata": {},
   "outputs": [
    {
     "data": {
      "text/plain": [
       "TR_PRODUCT_TYPE\n",
       "Fuel        1.416211e+08\n",
       "Non-Fuel    1.443900e+07\n",
       "Name: TR_REVENUE, dtype: float64"
      ]
     },
     "execution_count": 153,
     "metadata": {},
     "output_type": "execute_result"
    }
   ],
   "source": [
    "data.groupby(\"TR_PRODUCT_TYPE\")[\"TR_REVENUE\"].sum()"
   ]
  },
  {
   "cell_type": "markdown",
   "id": "herbal-terminal",
   "metadata": {},
   "source": [
    "La recette des transactions par produits sont comme suit : \n",
    "* Fuel : **141 621 100 €** \n",
    "* Non-Fuel est de **14 379 030 €**\n",
    "\n",
    "Sans aucune surprise, il s'agit des produits de type **fuel** qui font de bonnes recettes."
   ]
  },
  {
   "cell_type": "code",
   "execution_count": 154,
   "id": "radical-island",
   "metadata": {},
   "outputs": [
    {
     "data": {
      "text/plain": [
       "<AxesSubplot:>"
      ]
     },
     "execution_count": 154,
     "metadata": {},
     "output_type": "execute_result"
    },
    {
     "data": {
      "image/png": "[encoded data removed]",
      "text/plain": [
       "<Figure size 432x288 with 1 Axes>"
      ]
     },
     "metadata": {
      "needs_background": "light"
     },
     "output_type": "display_data"
    }
   ],
   "source": [
    "data.TR_PRODUCT_TYPE.value_counts().plot(kind = 'bar')"
   ]
  },
  {
   "cell_type": "markdown",
   "id": "manufactured-crack",
   "metadata": {},
   "source": [
    "# Enregistrer les données propres"
   ]
  },
  {
   "cell_type": "code",
   "execution_count": 155,
   "id": "neither-senegal",
   "metadata": {},
   "outputs": [],
   "source": [
    "data.to_csv('./data/table_transactions.csv',sep=';',encoding='latin-1',index=False)"
   ]
  }
 ],
 "metadata": {
  "kernelspec": {
   "display_name": "Python 3",
   "language": "python",
   "name": "python3"
  },
  "language_info": {
   "codemirror_mode": {
    "name": "ipython",
    "version": 3
   },
   "file_extension": ".py",
   "mimetype": "text/x-python",
   "name": "python",
   "nbconvert_exporter": "python",
   "pygments_lexer": "ipython3",
   "version": "3.7.3"
  }
 },
 "nbformat": 4,
 "nbformat_minor": 5
}
